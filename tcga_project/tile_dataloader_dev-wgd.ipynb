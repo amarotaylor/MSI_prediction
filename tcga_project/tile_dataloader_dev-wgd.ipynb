{
 "cells": [
  {
   "cell_type": "code",
   "execution_count": 1,
   "metadata": {},
   "outputs": [],
   "source": [
    "import os\n",
    "import sys\n",
    "import torch\n",
    "import torch.nn as nn\n",
    "import accimage\n",
    "from PIL import Image\n",
    "from imageio import imread\n",
    "from torch.utils.data import Dataset, DataLoader\n",
    "from torchvision import datasets, models, transforms, set_image_backend, get_image_backend\n",
    "import data_utils\n",
    "import train_utils\n",
    "import numpy as np\n",
    "import pandas as pd\n",
    "import pickle\n",
    "import torch.nn.functional as F\n",
    "from collections import Counter\n",
    "\n",
    "%reload_ext autoreload\n",
    "%autoreload 2"
   ]
  },
  {
   "cell_type": "code",
   "execution_count": 2,
   "metadata": {},
   "outputs": [],
   "source": [
    "# https://github.com/pytorch/accimage\n",
    "set_image_backend('accimage')\n",
    "get_image_backend()\n",
    "\n",
    "# set root dir for images\n",
    "root_dir = '/n/mounted-data-drive/COAD/'"
   ]
  },
  {
   "cell_type": "code",
   "execution_count": 3,
   "metadata": {},
   "outputs": [],
   "source": [
    "normalize = transforms.Normalize(mean=[0.485, 0.456, 0.406], std=[0.229, 0.224, 0.225])\n",
    "transform = transforms.Compose([transforms.ToTensor(), normalize])\n",
    "\n",
    "sa_train, sa_val = data_utils.process_WGD_data()\n",
    "\n",
    "train_set = data_utils.TCGADataset_tiles(sa_train, root_dir, transform=transform)\n",
    "val_set = data_utils.TCGADataset_tiles(sa_val, root_dir, transform=transform)"
   ]
  },
  {
   "cell_type": "code",
   "execution_count": 47,
   "metadata": {},
   "outputs": [
    {
     "data": {
      "text/plain": [
       "[129243, 44701, 36028]"
      ]
     },
     "execution_count": 47,
     "metadata": {},
     "output_type": "execute_result"
    }
   ],
   "source": [
    "# set weights for random sampling of tiles such that batches are class balanced\n",
    "counts = [c[1] for c in sorted(Counter(train_set.all_labels).items())]\n",
    "counts"
   ]
  },
  {
   "cell_type": "code",
   "execution_count": 48,
   "metadata": {},
   "outputs": [
    {
     "data": {
      "text/plain": [
       "Counter({2: 36028, 1: 44701, 0: 129243})"
      ]
     },
     "execution_count": 48,
     "metadata": {},
     "output_type": "execute_result"
    }
   ],
   "source": [
    "Counter(train_set.all_labels)"
   ]
  },
  {
   "cell_type": "code",
   "execution_count": 51,
   "metadata": {},
   "outputs": [
    {
     "data": {
      "text/plain": [
       "array([0.00773736, 0.02237086, 0.02775619])"
      ]
     },
     "execution_count": 51,
     "metadata": {},
     "output_type": "execute_result"
    }
   ],
   "source": [
    "weights = 1.0 / np.array(counts, dtype=float) * 1e3\n",
    "reciprocal_weights =[]\n",
    "for index in range(len(train_set)):\n",
    "    reciprocal_weights.append(weights[train_set.all_labels[index]])\n",
    "weights"
   ]
  },
  {
   "cell_type": "code",
   "execution_count": 50,
   "metadata": {},
   "outputs": [
    {
     "data": {
      "text/plain": [
       "(0.027756189630287552, 2)"
      ]
     },
     "execution_count": 50,
     "metadata": {},
     "output_type": "execute_result"
    }
   ],
   "source": [
    "reciprocal_weights[0], train_set.all_labels[0]"
   ]
  },
  {
   "cell_type": "code",
   "execution_count": 35,
   "metadata": {},
   "outputs": [
    {
     "data": {
      "text/plain": [
       "array([[  2046],\n",
       "       [  2047],\n",
       "       [  2048],\n",
       "       ...,\n",
       "       [240807],\n",
       "       [240808],\n",
       "       [240809]])"
      ]
     },
     "execution_count": 35,
     "metadata": {},
     "output_type": "execute_result"
    }
   ],
   "source": [
    "np.argwhere(np.array(train_set.all_labels) == 1)"
   ]
  },
  {
   "cell_type": "code",
   "execution_count": 4,
   "metadata": {},
   "outputs": [
    {
     "data": {
      "text/plain": [
       "(1921.515625, 436.890625)"
      ]
     },
     "execution_count": 4,
     "metadata": {},
     "output_type": "execute_result"
    }
   ],
   "source": [
    "batch_size = 128\n",
    "sampler = torch.utils.data.sampler.WeightedRandomSampler(reciprocal_weights, len(reciprocal_weights), replacement=True)\n",
    "train_loader = DataLoader(train_set, batch_size=batch_size, pin_memory=True, sampler=sampler, num_workers=12)\n",
    "valid_loader = DataLoader(val_set, batch_size=batch_size, pin_memory=True, num_workers=12)\n",
    "len(train_set) / batch_size, len(val_set) / batch_size"
   ]
  },
  {
   "cell_type": "code",
   "execution_count": 23,
   "metadata": {},
   "outputs": [
    {
     "data": {
      "text/plain": [
       "array([0.00625806, 0.01160631])"
      ]
     },
     "execution_count": 23,
     "metadata": {},
     "output_type": "execute_result"
    }
   ],
   "source": [
    "weights"
   ]
  },
  {
   "cell_type": "code",
   "execution_count": 9,
   "metadata": {},
   "outputs": [
    {
     "data": {
      "text/html": [
       "<div>\n",
       "<style scoped>\n",
       "    .dataframe tbody tr th:only-of-type {\n",
       "        vertical-align: middle;\n",
       "    }\n",
       "\n",
       "    .dataframe tbody tr th {\n",
       "        vertical-align: top;\n",
       "    }\n",
       "\n",
       "    .dataframe thead th {\n",
       "        text-align: right;\n",
       "    }\n",
       "</style>\n",
       "<table border=\"1\" class=\"dataframe\">\n",
       "  <thead>\n",
       "    <tr style=\"text-align: right;\">\n",
       "      <th></th>\n",
       "      <th>Sample</th>\n",
       "      <th>Type</th>\n",
       "      <th>AneuploidyScore(AS)</th>\n",
       "      <th>AS_del</th>\n",
       "      <th>AS_amp</th>\n",
       "      <th>Genome_doublings</th>\n",
       "      <th>Leuk</th>\n",
       "      <th>Purity</th>\n",
       "      <th>Stroma</th>\n",
       "      <th>Stroma_notLeukocyte</th>\n",
       "      <th>Stroma_notLeukocyte_Floor</th>\n",
       "      <th>SilentMutationspeMb</th>\n",
       "      <th>Non-silentMutationsperMb</th>\n",
       "    </tr>\n",
       "  </thead>\n",
       "  <tbody>\n",
       "    <tr>\n",
       "      <th>0</th>\n",
       "      <td>TCGA-5M-AATE-01</td>\n",
       "      <td>COAD</td>\n",
       "      <td>20</td>\n",
       "      <td>7</td>\n",
       "      <td>13</td>\n",
       "      <td>1</td>\n",
       "      <td>0.080152</td>\n",
       "      <td>0.65</td>\n",
       "      <td>0.35</td>\n",
       "      <td>0.269848</td>\n",
       "      <td>0.269848</td>\n",
       "      <td>1.204090</td>\n",
       "      <td>2.552671</td>\n",
       "    </tr>\n",
       "    <tr>\n",
       "      <th>1</th>\n",
       "      <td>TCGA-A6-2683-01</td>\n",
       "      <td>COAD</td>\n",
       "      <td>20</td>\n",
       "      <td>11</td>\n",
       "      <td>9</td>\n",
       "      <td>1</td>\n",
       "      <td>0.012109</td>\n",
       "      <td>0.85</td>\n",
       "      <td>0.15</td>\n",
       "      <td>0.137891</td>\n",
       "      <td>0.137891</td>\n",
       "      <td>1.812046</td>\n",
       "      <td>5.617341</td>\n",
       "    </tr>\n",
       "    <tr>\n",
       "      <th>2</th>\n",
       "      <td>TCGA-AA-A01T-01</td>\n",
       "      <td>COAD</td>\n",
       "      <td>22</td>\n",
       "      <td>17</td>\n",
       "      <td>5</td>\n",
       "      <td>1</td>\n",
       "      <td>0.045103</td>\n",
       "      <td>0.71</td>\n",
       "      <td>0.29</td>\n",
       "      <td>0.244897</td>\n",
       "      <td>0.244897</td>\n",
       "      <td>0.683307</td>\n",
       "      <td>2.525263</td>\n",
       "    </tr>\n",
       "  </tbody>\n",
       "</table>\n",
       "</div>"
      ],
      "text/plain": [
       "            Sample  Type  AneuploidyScore(AS)  AS_del  AS_amp  \\\n",
       "0  TCGA-5M-AATE-01  COAD                   20       7      13   \n",
       "1  TCGA-A6-2683-01  COAD                   20      11       9   \n",
       "2  TCGA-AA-A01T-01  COAD                   22      17       5   \n",
       "\n",
       "   Genome_doublings      Leuk  Purity  Stroma  Stroma_notLeukocyte  \\\n",
       "0                 1  0.080152    0.65    0.35             0.269848   \n",
       "1                 1  0.012109    0.85    0.15             0.137891   \n",
       "2                 1  0.045103    0.71    0.29             0.244897   \n",
       "\n",
       "   Stroma_notLeukocyte_Floor  SilentMutationspeMb  Non-silentMutationsperMb  \n",
       "0                   0.269848             1.204090                  2.552671  \n",
       "1                   0.137891             1.812046                  5.617341  \n",
       "2                   0.244897             0.683307                  2.525263  "
      ]
     },
     "execution_count": 9,
     "metadata": {},
     "output_type": "execute_result"
    }
   ],
   "source": [
    "wgd_path = 'COAD_WGD_TABLE.xls'\n",
    "wgd_raw = pd.read_excel(wgd_path)\n",
    "wgd_raw.head(3)"
   ]
  },
  {
   "cell_type": "code",
   "execution_count": 17,
   "metadata": {},
   "outputs": [
    {
     "data": {
      "text/plain": [
       "[(0, 260), (1, 173)]"
      ]
     },
     "execution_count": 17,
     "metadata": {},
     "output_type": "execute_result"
    }
   ],
   "source": []
  },
  {
   "cell_type": "code",
   "execution_count": 14,
   "metadata": {},
   "outputs": [
    {
     "data": {
      "text/plain": [
       "array([0.39953811, 0.60046189])"
      ]
     },
     "execution_count": 14,
     "metadata": {},
     "output_type": "execute_result"
    }
   ],
   "source": [
    "counts = np.array(list(Counter(wgd_raw.Genome_doublings).values()))\n",
    "counts / np.sum(counts)"
   ]
  },
  {
   "cell_type": "markdown",
   "metadata": {},
   "source": [
    "## WGD Dev"
   ]
  },
  {
   "cell_type": "code",
   "execution_count": null,
   "metadata": {},
   "outputs": [],
   "source": [
    "# def process_WGD_data()\n",
    "root_dir = '/n/mounted-data-drive/COAD/'\n",
    "wgd_path = 'COAD_WGD_TABLE.xls'\n",
    "wgd_raw = pd.read_excel(wgd_path)\n",
    "wgd_raw.head(3)"
   ]
  },
  {
   "cell_type": "code",
   "execution_count": null,
   "metadata": {},
   "outputs": [],
   "source": [
    "sample_name = wgd_raw['Sample'][0]\n",
    "name_len = len(sample_name)\n",
    "sample_name, name_len"
   ]
  },
  {
   "cell_type": "code",
   "execution_count": null,
   "metadata": {},
   "outputs": [],
   "source": [
    "coad_full_name = os.listdir(root_dir)\n",
    "coad_full_name[0]"
   ]
  },
  {
   "cell_type": "code",
   "execution_count": null,
   "metadata": {},
   "outputs": [],
   "source": [
    "coad_img = np.array([v[0:name_len] for v in coad_full_name])\n",
    "wgd_raw.shape, len(coad_img), coad_img[5], coad_full_name[5]"
   ]
  },
  {
   "cell_type": "code",
   "execution_count": null,
   "metadata": {},
   "outputs": [],
   "source": [
    "coad_both = np.intersect1d(coad_img, wgd_raw.Sample)\n",
    "coad_both.size"
   ]
  },
  {
   "cell_type": "code",
   "execution_count": null,
   "metadata": {},
   "outputs": [],
   "source": [
    "sample_names = []\n",
    "for sample in coad_both:\n",
    "    key = np.argwhere(coad_img == sample).squeeze()\n",
    "    if key.size != 0:\n",
    "        sample_names.append(coad_full_name[key][:-4])"
   ]
  },
  {
   "cell_type": "code",
   "execution_count": null,
   "metadata": {},
   "outputs": [],
   "source": [
    "wgd_raw.set_index('Sample', inplace=True)\n",
    "reorder = np.random.permutation(len(sample_names))\n",
    "idx = int(np.floor(len(sample_names)*0.8))\n",
    "train = reorder[:idx]\n",
    "val = reorder[idx:]"
   ]
  },
  {
   "cell_type": "code",
   "execution_count": null,
   "metadata": {},
   "outputs": [],
   "source": [
    "sample_annotations = {}\n",
    "sample_names = np.array(sample_names)\n",
    "for sample_name in sample_names[train]:\n",
    "    sample_annotations[sample_name] = wgd_raw.loc[sample_name[0:name_len], 'Genome_doublings']\n",
    "sample_annotations_train = sample_annotations"
   ]
  },
  {
   "cell_type": "code",
   "execution_count": null,
   "metadata": {},
   "outputs": [],
   "source": [
    "sample_annotations = {}\n",
    "sample_names = np.array(sample_names)\n",
    "for sample_name in sample_names[val]:\n",
    "    sample_annotations[sample_name] = wgd_raw.loc[sample_name[0:name_len], 'Genome_doublings']\n",
    "sample_annotations_val = sample_annotations\n",
    "#return sample_annotations_train, sample_annotations_val"
   ]
  },
  {
   "cell_type": "markdown",
   "metadata": {},
   "source": [
    "## Fat Network"
   ]
  },
  {
   "cell_type": "code",
   "execution_count": null,
   "metadata": {
    "scrolled": true
   },
   "outputs": [],
   "source": [
    "resnet = models.resnet18(pretrained=True)\n",
    "resnet.fc = nn.Linear(2048,2,bias=True)#resnet18: 2048, resnet50: 8192, resnet152: 8192\n",
    "resnet.cuda()"
   ]
  },
  {
   "cell_type": "code",
   "execution_count": null,
   "metadata": {},
   "outputs": [],
   "source": [
    "learning_rate = 1e-2\n",
    "criterion = nn.BCEWithLogitsLoss()\n",
    "optimizer = torch.optim.Adam(resnet.parameters(), lr = learning_rate)\n",
    "scheduler = torch.optim.lr_scheduler.ReduceLROnPlateau(optimizer, patience=100, min_lr=1e-6)"
   ]
  },
  {
   "cell_type": "code",
   "execution_count": null,
   "metadata": {},
   "outputs": [],
   "source": [
    "for e in range(10):\n",
    "    if e % 1 == 0:\n",
    "        print('---------- LR: {0:0.5f} ----------'.format(optimizer.state_dict()['param_groups'][0]['lr']))\n",
    "    train_utils.embedding_training_loop(e, train_loader, resnet, criterion, optimizer)\n",
    "    val_loss = train_utils.embedding_validation_loop(e, valid_loader, resnet, criterion, dataset='Val', scheduler=scheduler)"
   ]
  },
  {
   "cell_type": "code",
   "execution_count": null,
   "metadata": {},
   "outputs": [],
   "source": [
    "torch.save(resnet.state_dict(),'test.pt')"
   ]
  },
  {
   "cell_type": "markdown",
   "metadata": {},
   "source": [
    "## Archive"
   ]
  },
  {
   "cell_type": "code",
   "execution_count": 39,
   "metadata": {},
   "outputs": [],
   "source": [
    "sa_train, sa_val = data_utils.process_MSI_data()\n",
    "\n",
    "train_set = data_utils.TCGADataset_tiles(sa_train, root_dir, transform=transform)\n",
    "val_set = data_utils.TCGADataset_tiles(sa_val, root_dir, transform=transform)"
   ]
  },
  {
   "cell_type": "code",
   "execution_count": 41,
   "metadata": {},
   "outputs": [
    {
     "data": {
      "text/plain": [
       "Counter({2: 36028, 1: 44701, 0: 129243})"
      ]
     },
     "execution_count": 41,
     "metadata": {},
     "output_type": "execute_result"
    }
   ],
   "source": [
    "Counter(train_set.all_labels)"
   ]
  },
  {
   "cell_type": "code",
   "execution_count": 42,
   "metadata": {},
   "outputs": [
    {
     "data": {
      "text/plain": [
       "array([0.02775619, 0.02237086, 0.00773736])"
      ]
     },
     "execution_count": 42,
     "metadata": {},
     "output_type": "execute_result"
    }
   ],
   "source": [
    "weights = 1.0/np.array(list(Counter(train_set.all_labels).values()),dtype=float)*1e3\n",
    "weights"
   ]
  },
  {
   "cell_type": "code",
   "execution_count": 43,
   "metadata": {},
   "outputs": [],
   "source": [
    "reciprocal_weights =[]\n",
    "for index in range(len(train_set)):\n",
    "    reciprocal_weights.append(weights[train_set.all_labels[index]])"
   ]
  },
  {
   "cell_type": "code",
   "execution_count": 45,
   "metadata": {},
   "outputs": [
    {
     "data": {
      "text/plain": [
       "([0.022370864186483524,\n",
       "  0.022370864186483524,\n",
       "  0.022370864186483524,\n",
       "  0.022370864186483524,\n",
       "  0.022370864186483524],\n",
       " [1, 1, 1, 1, 1])"
      ]
     },
     "execution_count": 45,
     "metadata": {},
     "output_type": "execute_result"
    }
   ],
   "source": [
    "reciprocal_weights[-5:], train_set.all_labels[-5:]"
   ]
  },
  {
   "cell_type": "code",
   "execution_count": null,
   "metadata": {},
   "outputs": [],
   "source": []
  }
 ],
 "metadata": {
  "kernelspec": {
   "display_name": "Python 3",
   "language": "python",
   "name": "python3"
  },
  "language_info": {
   "codemirror_mode": {
    "name": "ipython",
    "version": 3
   },
   "file_extension": ".py",
   "mimetype": "text/x-python",
   "name": "python",
   "nbconvert_exporter": "python",
   "pygments_lexer": "ipython3",
   "version": "3.6.7"
  }
 },
 "nbformat": 4,
 "nbformat_minor": 2
}
