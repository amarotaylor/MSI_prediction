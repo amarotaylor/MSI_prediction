{
 "cells": [
  {
   "cell_type": "code",
   "execution_count": 1,
   "metadata": {},
   "outputs": [],
   "source": [
    "import os\n",
    "import sys\n",
    "import torch\n",
    "import accimage\n",
    "import numpy as np\n",
    "import pandas as pd\n",
    "from PIL import Image\n",
    "from imageio import imread\n",
    "from torch.utils.data import Dataset, DataLoader\n",
    "from torchvision import datasets, models, transforms, set_image_backend, get_image_backend\n",
    "import torch.nn.functional as F\n",
    "import pickle\n",
    "import train_utils\n",
    "import data_utils\n",
    "import os\n",
    "import gc\n",
    "import sys\n",
    "import torch\n",
    "import psutil\n",
    "import pickle\n",
    "import numpy as np\n",
    "import pandas as pd\n",
    "import torch.nn as nn\n",
    "from sklearn import metrics\n",
    "from collections import Counter\n",
    "import matplotlib.pyplot as plt\n",
    "from torch.utils.data import DataLoader\n",
    "from torchvision import models, set_image_backend\n",
    "set_image_backend('accimage')\n",
    "import data_utils\n",
    "import train_utils\n",
    "root_dir_coad = '/n/mounted-data-drive/COAD/'\n",
    "\n",
    "%reload_ext autoreload\n",
    "%autoreload 2\n",
    "\n",
    "\n",
    "class Identity(nn.Module):\n",
    "    def __init__(self):\n",
    "        super(Identity, self).__init__()\n",
    "        \n",
    "    def forward(self, x):\n",
    "        return x"
   ]
  },
  {
   "cell_type": "code",
   "execution_count": 3,
   "metadata": {},
   "outputs": [],
   "source": [
    "sa_train, sa_val = data_utils.load_COAD_train_val_sa_pickle('/n/tcga_models/resnet18_WGD_v04_sa.pkl')\n",
    "root_dir = '/n/mounted-data-drive/COAD/'\n",
    "magnification = '5.0'\n",
    "\n",
    "train_transform = train_utils.transform_train\n",
    "val_transform = train_utils.transform_validation\n",
    "\n",
    "\n",
    "\n",
    "train_set = data_utils.TCGADataset_tiled_slides(sa_train, root_dir, transform=train_transform, magnification=magnification)\n",
    "train_loader = DataLoader(train_set, batch_size=256, pin_memory=True, num_workers=12)\n",
    "\n",
    "\n",
    "val_set = data_utils.TCGADataset_tiled_slides(sa_val, root_dir, transform=val_transform, magnification=magnification)\n",
    "val_loader = DataLoader(val_set, batch_size=256, pin_memory=True, num_workers=12)\n",
    "\n",
    "\n",
    "state_dict_file = '/n/tcga_models/resnet18_WGD_v04.pt'\n",
    "device = torch.device('cuda', 0)\n",
    "output_shape = 1\n",
    "\n",
    "\n",
    "resnet = models.resnet18(pretrained=True)\n",
    "resnet.fc = nn.Linear(2048, output_shape, bias=True)\n",
    "\n",
    "saved_state = torch.load(state_dict_file, map_location=lambda storage, loc: storage)\n",
    "resnet.load_state_dict(saved_state)\n",
    "resnet.fc = Identity()\n",
    "for param in resnet.parameters():\n",
    "    param.requires_grad = False\n",
    "resnet.cuda(device=device)\n",
    "\n",
    "    \n",
    "    \n",
    "def pool_fn(x):\n",
    "    #v,a = torch.max(x,0)\n",
    "    v = torch.mean(x,0)\n",
    "    return v\n",
    "\n",
    "\n",
    "slide_level_classification_layer = nn.Linear(2048,1)\n",
    "slide_level_classification_layer.cuda()\n",
    "\n",
    "\n",
    "\n",
    "e = 0\n",
    "learning_rate = 1e-3\n",
    "criterion = torch.nn.BCEWithLogitsLoss()\n",
    "optimizer = torch.optim.Adam(slide_level_classification_layer.parameters(), lr = learning_rate)\n",
    "scheduler = torch.optim.lr_scheduler.ReduceLROnPlateau(optimizer, patience=2, min_lr=1e-8)\n"
   ]
  },
  {
   "cell_type": "code",
   "execution_count": 4,
   "metadata": {},
   "outputs": [
    {
     "name": "stdout",
     "output_type": "stream",
     "text": [
      "Epoch: 0, Step: 0, Slide Number: 13, Train Batch NLL: 0.7148\n",
      "Epoch: 0, Step: 1, Slide Number: 38, Train Batch NLL: 1.2008\n",
      "Epoch: 0, Step: 2, Slide Number: 48, Train Batch NLL: 0.7470\n",
      "Epoch: 0, Step: 3, Slide Number: 79, Train Batch NLL: 0.8305\n",
      "Epoch: 0, Step: 4, Slide Number: 118, Train Batch NLL: 0.9775\n",
      "Epoch: 0, Step: 5, Slide Number: 138, Train Batch NLL: 0.6585\n",
      "Epoch: 0, Step: 6, Slide Number: 180, Train Batch NLL: 0.7944\n",
      "Epoch: 0, Step: 7, Slide Number: 225, Train Batch NLL: 0.6323\n",
      "Epoch: 0, Step: 8, Slide Number: 292, Train Batch NLL: 0.6913\n",
      "Epoch: 0, Step: 9, Slide Number: 322, Train Batch NLL: 0.6980\n",
      "Epoch: 0, Step: 10, Slide Number: 323, Train Batch NLL: 0.7030\n",
      "Epoch: 1, Step: 0, Slide Number: 73, Train Batch NLL: 0.6852\n",
      "Epoch: 1, Step: 1, Slide Number: 90, Train Batch NLL: 0.6808\n",
      "Epoch: 1, Step: 2, Slide Number: 129, Train Batch NLL: 0.7118\n",
      "Epoch: 1, Step: 3, Slide Number: 175, Train Batch NLL: 0.6757\n",
      "Epoch: 1, Step: 4, Slide Number: 213, Train Batch NLL: 0.6549\n",
      "Epoch: 1, Step: 5, Slide Number: 238, Train Batch NLL: 0.6749\n",
      "Epoch: 1, Step: 6, Slide Number: 293, Train Batch NLL: 0.6457\n",
      "Epoch: 1, Step: 7, Slide Number: 307, Train Batch NLL: 0.7050\n",
      "Epoch: 1, Step: 8, Slide Number: 323, Train Batch NLL: 0.6944\n",
      "Epoch: 2, Step: 0, Slide Number: 34, Train Batch NLL: 0.6514\n",
      "Epoch: 2, Step: 1, Slide Number: 53, Train Batch NLL: 0.6560\n",
      "Epoch: 2, Step: 2, Slide Number: 77, Train Batch NLL: 0.7231\n",
      "Epoch: 2, Step: 3, Slide Number: 162, Train Batch NLL: 0.6964\n",
      "Epoch: 2, Step: 4, Slide Number: 213, Train Batch NLL: 0.6892\n",
      "Epoch: 2, Step: 5, Slide Number: 234, Train Batch NLL: 0.6862\n",
      "Epoch: 2, Step: 6, Slide Number: 323, Train Batch NLL: 0.6780\n",
      "Epoch: 3, Step: 0, Slide Number: 8, Train Batch NLL: 0.7245\n",
      "Epoch: 3, Step: 1, Slide Number: 23, Train Batch NLL: 0.5711\n",
      "Epoch: 3, Step: 2, Slide Number: 87, Train Batch NLL: 0.7230\n",
      "Epoch: 3, Step: 3, Slide Number: 136, Train Batch NLL: 0.7629\n",
      "Epoch: 3, Step: 4, Slide Number: 178, Train Batch NLL: 0.7238\n",
      "Epoch: 3, Step: 5, Slide Number: 202, Train Batch NLL: 0.6513\n",
      "Epoch: 3, Step: 6, Slide Number: 238, Train Batch NLL: 0.6710\n",
      "Epoch: 3, Step: 7, Slide Number: 292, Train Batch NLL: 0.6822\n",
      "Epoch: 3, Step: 8, Slide Number: 323, Train Batch NLL: 0.6722\n",
      "Epoch: 4, Step: 0, Slide Number: 43, Train Batch NLL: 0.6502\n",
      "Epoch: 4, Step: 1, Slide Number: 71, Train Batch NLL: 0.7259\n",
      "Epoch: 4, Step: 2, Slide Number: 91, Train Batch NLL: 0.7135\n",
      "Epoch: 4, Step: 3, Slide Number: 108, Train Batch NLL: 0.8414\n",
      "Epoch: 4, Step: 4, Slide Number: 124, Train Batch NLL: 0.6895\n",
      "Epoch: 4, Step: 5, Slide Number: 136, Train Batch NLL: 0.8306\n",
      "Epoch: 4, Step: 6, Slide Number: 158, Train Batch NLL: 0.7078\n",
      "Epoch: 4, Step: 7, Slide Number: 224, Train Batch NLL: 0.7764\n",
      "Epoch: 4, Step: 8, Slide Number: 268, Train Batch NLL: 0.7046\n",
      "Epoch: 4, Step: 9, Slide Number: 309, Train Batch NLL: 0.6473\n",
      "Epoch: 4, Step: 10, Slide Number: 323, Train Batch NLL: 0.6501\n"
     ]
    }
   ],
   "source": [
    "for e in range(5):\n",
    "    train_utils.tcga_tiled_slides_training_loop(e, train_loader, resnet, \n",
    "                                    slide_level_classification_layer, criterion, \n",
    "                                 optimizer, pool_fn, train_set=train_set,device=device)"
   ]
  },
  {
   "cell_type": "code",
   "execution_count": 5,
   "metadata": {},
   "outputs": [
    {
     "name": "stdout",
     "output_type": "stream",
     "text": [
      "Epoch: 4, Step: 0, Slide Number: 81, Val Avg NLL: 0.7022, Val Accuracy: 0.65\n"
     ]
    },
    {
     "data": {
      "text/plain": [
       "(tensor(0.7022, device='cuda:0'), 0.6463414634146342)"
      ]
     },
     "execution_count": 5,
     "metadata": {},
     "output_type": "execute_result"
    }
   ],
   "source": [
    "train_utils.tcga_tiled_slides_validation_loop(e, val_loader, resnet, \n",
    "                                    slide_level_classification_layer, criterion, \n",
    "                                 scheduler, pool_fn, val_set=val_set,device=device)"
   ]
  },
  {
   "cell_type": "code",
   "execution_count": 7,
   "metadata": {},
   "outputs": [],
   "source": [
    "torch.save(slide_level_classification_layer.state_dict(),'linear_classifier_5x.pt')"
   ]
  },
  {
   "cell_type": "code",
   "execution_count": 8,
   "metadata": {},
   "outputs": [],
   "source": [
    "best_loss, accuracy  = 0.7022,0.6463"
   ]
  },
  {
   "cell_type": "code",
   "execution_count": 10,
   "metadata": {},
   "outputs": [
    {
     "name": "stdout",
     "output_type": "stream",
     "text": [
      "Epoch: 5, Step: 0, Slide Number: 34, Train Batch NLL: 0.7100\n",
      "Epoch: 5, Step: 1, Slide Number: 97, Train Batch NLL: 0.9036\n",
      "Epoch: 5, Step: 2, Slide Number: 147, Train Batch NLL: 0.9288\n",
      "Epoch: 5, Step: 3, Slide Number: 205, Train Batch NLL: 0.6899\n",
      "Epoch: 5, Step: 4, Slide Number: 227, Train Batch NLL: 0.6342\n",
      "Epoch: 5, Step: 5, Slide Number: 296, Train Batch NLL: 0.6970\n",
      "Epoch: 5, Step: 6, Slide Number: 323, Train Batch NLL: 0.6964\n",
      "Epoch: 5, Step: 0, Slide Number: 81, Val Avg NLL: 0.7148, Val Accuracy: 0.38\n",
      "Epoch: 6, Step: 0, Slide Number: 7, Train Batch NLL: 0.6478\n",
      "Epoch: 6, Step: 1, Slide Number: 85, Train Batch NLL: 0.7153\n",
      "Epoch: 6, Step: 2, Slide Number: 152, Train Batch NLL: 0.6828\n",
      "Epoch: 6, Step: 3, Slide Number: 211, Train Batch NLL: 0.6782\n",
      "Epoch: 6, Step: 4, Slide Number: 273, Train Batch NLL: 0.6603\n",
      "Epoch: 6, Step: 5, Slide Number: 290, Train Batch NLL: 0.6363\n",
      "Epoch: 6, Step: 6, Slide Number: 317, Train Batch NLL: 0.6849\n",
      "Epoch: 6, Step: 7, Slide Number: 323, Train Batch NLL: 0.6254\n",
      "Epoch: 6, Step: 0, Slide Number: 81, Val Avg NLL: 0.6881, Val Accuracy: 0.65\n",
      "Wrote model\n",
      "Epoch: 7, Step: 0, Slide Number: 59, Train Batch NLL: 0.7408\n",
      "Epoch: 7, Step: 1, Slide Number: 82, Train Batch NLL: 0.7985\n",
      "Epoch: 7, Step: 2, Slide Number: 110, Train Batch NLL: 0.8664\n",
      "Epoch: 7, Step: 3, Slide Number: 129, Train Batch NLL: 0.6657\n",
      "Epoch: 7, Step: 4, Slide Number: 221, Train Batch NLL: 0.7264\n",
      "Epoch: 7, Step: 5, Slide Number: 232, Train Batch NLL: 0.9236\n",
      "Epoch: 7, Step: 6, Slide Number: 323, Train Batch NLL: 0.7262\n",
      "Epoch: 7, Step: 0, Slide Number: 81, Val Avg NLL: 0.6642, Val Accuracy: 0.63\n",
      "Wrote model\n",
      "Epoch: 8, Step: 0, Slide Number: 20, Train Batch NLL: 0.6443\n",
      "Epoch: 8, Step: 1, Slide Number: 42, Train Batch NLL: 0.6718\n",
      "Epoch: 8, Step: 2, Slide Number: 91, Train Batch NLL: 0.8159\n",
      "Epoch: 8, Step: 3, Slide Number: 123, Train Batch NLL: 1.0393\n",
      "Epoch: 8, Step: 4, Slide Number: 197, Train Batch NLL: 0.7048\n",
      "Epoch: 8, Step: 5, Slide Number: 265, Train Batch NLL: 0.6455\n",
      "Epoch: 8, Step: 6, Slide Number: 283, Train Batch NLL: 0.6479\n",
      "Epoch: 8, Step: 7, Slide Number: 299, Train Batch NLL: 0.6835\n",
      "Epoch: 8, Step: 8, Slide Number: 323, Train Batch NLL: 0.6679\n",
      "Epoch: 8, Step: 0, Slide Number: 81, Val Avg NLL: 0.6684, Val Accuracy: 0.63\n",
      "Epoch: 9, Step: 0, Slide Number: 67, Train Batch NLL: 0.6739\n",
      "Epoch: 9, Step: 1, Slide Number: 124, Train Batch NLL: 0.7040\n",
      "Epoch: 9, Step: 2, Slide Number: 189, Train Batch NLL: 0.6579\n",
      "Epoch: 9, Step: 3, Slide Number: 238, Train Batch NLL: 0.6505\n",
      "Epoch: 9, Step: 4, Slide Number: 296, Train Batch NLL: 0.6429\n",
      "Epoch: 9, Step: 5, Slide Number: 323, Train Batch NLL: 0.6730\n",
      "Epoch: 9, Step: 0, Slide Number: 81, Val Avg NLL: 0.6475, Val Accuracy: 0.65\n",
      "Wrote model\n"
     ]
    }
   ],
   "source": [
    "for e in range(5,10):\n",
    "    train_utils.tcga_tiled_slides_training_loop(e, train_loader, resnet, \n",
    "                                    slide_level_classification_layer, criterion, \n",
    "                                 optimizer, pool_fn, train_set=train_set,device=device)\n",
    "    loss, acc = train_utils.tcga_tiled_slides_validation_loop(e, val_loader, resnet, \n",
    "                                    slide_level_classification_layer, criterion, \n",
    "                                 scheduler, pool_fn, val_set=val_set,device=device)\n",
    "    if acc> accuracy or best_loss> loss:\n",
    "        print('Wrote model')\n",
    "        torch.save(slide_level_classification_layer.state_dict(),'linear_classifier_5x.pt')\n",
    "        best_loss = loss\n",
    "        accuracy = acc"
   ]
  },
  {
   "cell_type": "code",
   "execution_count": null,
   "metadata": {},
   "outputs": [],
   "source": []
  }
 ],
 "metadata": {
  "kernelspec": {
   "display_name": "Python 3",
   "language": "python",
   "name": "python3"
  },
  "language_info": {
   "codemirror_mode": {
    "name": "ipython",
    "version": 3
   },
   "file_extension": ".py",
   "mimetype": "text/x-python",
   "name": "python",
   "nbconvert_exporter": "python",
   "pygments_lexer": "ipython3",
   "version": "3.6.7"
  }
 },
 "nbformat": 4,
 "nbformat_minor": 2
}
