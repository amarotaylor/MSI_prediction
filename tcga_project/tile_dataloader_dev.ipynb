{
 "cells": [
  {
   "cell_type": "code",
   "execution_count": 27,
   "metadata": {},
   "outputs": [
    {
     "data": {
      "text/plain": [
       "'accimage'"
      ]
     },
     "execution_count": 27,
     "metadata": {},
     "output_type": "execute_result"
    }
   ],
   "source": [
    "import os\n",
    "import sys\n",
    "import torch\n",
    "import torch.nn as nn\n",
    "import accimage\n",
    "from PIL import Image\n",
    "from imageio import imread\n",
    "from torch.utils.data import Dataset, DataLoader\n",
    "from torchvision import datasets, models, transforms, set_image_backend, get_image_backend\n",
    "import data_utils\n",
    "import numpy as np\n",
    "import pandas as pd\n",
    "import pickle\n",
    "import torch.nn.functional as F\n",
    "\n",
    "%reload_ext autoreload\n",
    "%autoreload 2\n",
    "\n",
    "# https://github.com/pytorch/accimage\n",
    "set_image_backend('accimage')\n",
    "get_image_backend()"
   ]
  },
  {
   "cell_type": "code",
   "execution_count": 2,
   "metadata": {},
   "outputs": [],
   "source": [
    "root_dir = '/n/mounted-data-drive/COAD/'\n",
    "normalize = transforms.Normalize(mean=[0.485, 0.456, 0.406], std=[0.229, 0.224, 0.225])\n",
    "transform = transforms.ToTensor()\n",
    "msi_path = '/home/sxchao/MSI_prediction/tcga_project/msi_raw_data.xlsx'\n",
    "msi_raw = pd.read_excel(msi_path)"
   ]
  },
  {
   "cell_type": "code",
   "execution_count": 5,
   "metadata": {},
   "outputs": [],
   "source": [
    "cut_off = 50\n",
    "msi_raw.rename(columns={'Tumor type':'tumor_type', \n",
    "                        'Donor id':\"donor_id\", \n",
    "                        'Tumor sample id':'tumor_id',\n",
    "                        'Normal sample id':'normal_id',\n",
    "                        'Number of mutations A motif':'muts_A', \n",
    "                        'Number of covered A loci':'covg_A',\n",
    "                        'Number of mutations C motif':'muts_C', \n",
    "                        'Number of covered C loci':'covg_C',\n",
    "                        'Number of mutations AC motif':'muts_AC', \n",
    "                        'Number of covered AC loci':'covg_AC',\n",
    "                        'Number of mutations AG motif':'muts_AG', \n",
    "                        'Number of covered AG loci':'covg_AG'}, \n",
    "               inplace=True)\n",
    "\n",
    "msi_raw['muts_tot'] = msi_raw['muts_A'] + msi_raw['muts_C'] + msi_raw['muts_AC'] + msi_raw['muts_AG']\n",
    "msi_raw['msi'] = msi_raw['muts_tot'] > cut_off\n",
    "msi_raw.msi = msi_raw.msi.astype(int)\n",
    "#msi_raw.tail(3)"
   ]
  },
  {
   "cell_type": "code",
   "execution_count": 6,
   "metadata": {},
   "outputs": [],
   "source": [
    "coad_msi = msi_raw.loc[msi_raw['tumor_type']=='COAD','donor_id'].values\n"
   ]
  },
  {
   "cell_type": "code",
   "execution_count": 7,
   "metadata": {},
   "outputs": [],
   "source": [
    "sample_name = coad_msi[-1]\n",
    "name_len = len(sample_name)\n",
    "#sample_name"
   ]
  },
  {
   "cell_type": "code",
   "execution_count": 8,
   "metadata": {},
   "outputs": [],
   "source": [
    "coad_full_name = os.listdir(root_dir)\n",
    "coad_img = np.array([v[0:name_len] for v in coad_full_name])\n",
    "#len(coad_img), coad_img[5], coad_full_name[5]"
   ]
  },
  {
   "cell_type": "code",
   "execution_count": 9,
   "metadata": {},
   "outputs": [],
   "source": [
    "coad_both = np.intersect1d(coad_img, coad_msi)"
   ]
  },
  {
   "cell_type": "code",
   "execution_count": 10,
   "metadata": {},
   "outputs": [],
   "source": [
    "sample_names = []\n",
    "for sample in coad_both:\n",
    "    if sample != 'TCGA-A6-2675': # 5.0 empty for 'TCGA-A6-2675-01Z-00-DX1.d37847d6-c17f-44b9-b90a-84cd1946c8ab'\n",
    "        key = np.argwhere(coad_img == sample).squeeze()\n",
    "        if key.size != 0:\n",
    "            sample_names.append(coad_full_name[key][:-4])"
   ]
  },
  {
   "cell_type": "code",
   "execution_count": 11,
   "metadata": {},
   "outputs": [],
   "source": [
    "msi_raw.set_index('donor_id', inplace=True)\n",
    "#msi_raw.head(3)"
   ]
  },
  {
   "cell_type": "code",
   "execution_count": 12,
   "metadata": {},
   "outputs": [
    {
     "data": {
      "text/plain": [
       "(196, 50)"
      ]
     },
     "execution_count": 12,
     "metadata": {},
     "output_type": "execute_result"
    }
   ],
   "source": [
    "np.random.seed(seed=29)\n",
    "reorder = np.random.permutation(len(sample_names))\n",
    "train = reorder[:int(np.floor(len(sample_names)*0.8))]\n",
    "val = reorder[int(np.floor(len(sample_names)*0.8)):]\n",
    "len(train), len(val)"
   ]
  },
  {
   "cell_type": "code",
   "execution_count": 14,
   "metadata": {},
   "outputs": [],
   "source": [
    "sample_annotations = {}\n",
    "sample_names = np.array(sample_names)\n",
    "for sample_name in sample_names[train]:\n",
    "    sample_annotations[sample_name] = msi_raw.loc[sample_name[0:name_len], 'msi']"
   ]
  },
  {
   "cell_type": "code",
   "execution_count": 67,
   "metadata": {},
   "outputs": [],
   "source": [
    "train_set = data_utils.TCGADataset_tiles(sample_annotations, root_dir, transform=transform)\n"
   ]
  },
  {
   "cell_type": "code",
   "execution_count": 82,
   "metadata": {},
   "outputs": [
    {
     "data": {
      "text/plain": [
       "3525"
      ]
     },
     "execution_count": 82,
     "metadata": {},
     "output_type": "execute_result"
    }
   ],
   "source": [
    "np.sum([len(j) for j in train_set.jpegs][0:4])"
   ]
  },
  {
   "cell_type": "code",
   "execution_count": null,
   "metadata": {},
   "outputs": [],
   "source": []
  }
 ],
 "metadata": {
  "kernelspec": {
   "display_name": "Python 3",
   "language": "python",
   "name": "python3"
  },
  "language_info": {
   "codemirror_mode": {
    "name": "ipython",
    "version": 3
   },
   "file_extension": ".py",
   "mimetype": "text/x-python",
   "name": "python",
   "nbconvert_exporter": "python",
   "pygments_lexer": "ipython3",
   "version": "3.6.7"
  }
 },
 "nbformat": 4,
 "nbformat_minor": 2
}
