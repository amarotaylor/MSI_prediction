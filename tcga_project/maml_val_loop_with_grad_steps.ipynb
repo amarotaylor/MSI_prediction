{
 "cells": [
  {
   "cell_type": "code",
   "execution_count": null,
   "metadata": {},
   "outputs": [],
   "source": [
    "import os\n",
    "import gc\n",
    "import sys\n",
    "import torch\n",
    "import psutil\n",
    "import pickle\n",
    "import numpy as np\n",
    "import pandas as pd\n",
    "import torch.nn as nn\n",
    "from sklearn import metrics\n",
    "from collections import Counter\n",
    "import matplotlib.pyplot as plt\n",
    "from torch.utils.data import DataLoader\n",
    "from torchvision import models, set_image_backend\n",
    "\n",
    "import data_utils\n",
    "import train_utils\n",
    "import model_utils\n",
    "\n",
    "import copy"
   ]
  },
  {
   "cell_type": "code",
   "execution_count": 8,
   "metadata": {},
   "outputs": [],
   "source": [
    "# setup\n",
    "set_image_backend('accimage')\n",
    "device = torch.device('cuda', 0)\n",
    "\n",
    "# load sample annotations pickle\n",
    "pickle_file = '/home/sxchao/MSI_prediction/tcga_project/tcga_wgd_sa_all.pkl'\n",
    "batch_all, _, _, sa_trains, sa_vals = data_utils.load_COAD_train_val_sa_pickle(pickle_file=pickle_file,\n",
    "                                                                               return_all_cancers=True, \n",
    "                                                                               split_in_two=True)\n",
    "# normalize and tensorify jpegs\n",
    "val_transform = train_utils.transform_validation\n",
    "\n",
    "# initialize Datasets\n",
    "val_sets = []\n",
    "val_cancers = ['UCEC', 'LIHC_10x', 'KIRC_10x']\n",
    "magnification = '10.0'\n",
    "root_dir = '/n/mounted-data-drive/'\n",
    "for j in range(len(val_cancers)):\n",
    "    val_set = data_utils.TCGADataset_tiles(sa_vals[batch_all.index(val_cancers[j])], \n",
    "                                           root_dir + val_cancers[j] + '/', \n",
    "                                           transform=val_transform, \n",
    "                                           magnification=magnification, \n",
    "                                           batch_type='tile', \n",
    "                                           return_jpg_to_sample=True)\n",
    "    val_sets.append(val_set)\n",
    "\n",
    "# get DataLoaders    \n",
    "batch_size_val = 400\n",
    "n_workers = 16\n",
    "val_loaders = [torch.utils.data.DataLoader(val_set, \n",
    "                                        batch_size=batch_size_val, \n",
    "                                        shuffle=True, \n",
    "                                        num_workers=n_workers, \n",
    "                                        pin_memory=True) for val_set in val_sets]"
   ]
  },
  {
   "cell_type": "code",
   "execution_count": null,
   "metadata": {},
   "outputs": [],
   "source": [
    "# model args\n",
    "state_dict_file_resnet = '/n/tcga_models/resnet18_WGD_all_10x.pt'\n",
    "state_dict_file_maml = '/n/tcga_models/maml_WGD_10x_v02a.pt'\n",
    "input_size = 2048\n",
    "hidden_size = 512\n",
    "output_size = 1\n",
    "\n",
    "# initialize trained resnet\n",
    "resnet = models.resnet18(pretrained=False)\n",
    "resnet.fc = nn.Linear(2048, output_size, bias=True)\n",
    "saved_state = torch.load(state_dict_file_resnet, map_location=lambda storage, loc: storage)\n",
    "resnet.load_state_dict(saved_state)\n",
    "\n",
    "# freeze layers\n",
    "resnet.fc = model_utils.Identity()\n",
    "resnet.cuda(device=device)\n",
    "for param in resnet.parameters():\n",
    "    param.requires_grad = False\n",
    "    \n",
    "# initialize theta_global\n",
    "net = model_utils.FeedForward(input_size, hidden_size, output_size)\n",
    "saved_state = torch.load(state_dict_file_maml, map_location=lambda storage, loc: storage)\n",
    "net.load_state_dict(saved_state)\n",
    "net.cuda(device=device)"
   ]
  },
  {
   "cell_type": "code",
   "execution_count": null,
   "metadata": {},
   "outputs": [],
   "source": [
    "theta_global = [p.detach().clone() for p in net.parameters()]"
   ]
  },
  {
   "cell_type": "code",
   "execution_count": null,
   "metadata": {},
   "outputs": [],
   "source": [
    "resnet.eval()\n",
    "num_steps = 10\n",
    "#num_tasks = int(tiles.shape[1])\n",
    "#for t in range(num_tasks):\n",
    "all_losses = np.zeros((num_steps, len(val_loaders[0])))"
   ]
  },
  {
   "cell_type": "code",
   "execution_count": 9,
   "metadata": {},
   "outputs": [],
   "source": [
    "alpha = 1e-2\n",
    "criterion_mean = nn.BCEWithLogitsLoss()\n",
    "criterion_none = nn.BCEWithLogitsLoss(reduction = 'none')\n",
    "optimizer = torch.optim.Adam(net.parameters(), lr = alpha)"
   ]
  },
  {
   "cell_type": "code",
   "execution_count": null,
   "metadata": {},
   "outputs": [],
   "source": [
    "for cancer_num, val_loader in enumerate(val_loaders):\n",
    "    all_logits = []\n",
    "    all_labels = []\n",
    "    all_types = []\n",
    "    all_jpgs = []\n",
    "    for batch_num,(tiles,labels,jpg_to_sample) in enumerate(val_loader):\n",
    "        print(batch_num, end=' ')\n",
    "        for step in range(num_steps): \n",
    "            optimizer.zero_grad()\n",
    "            if step == 0:\n",
    "                net.eval()\n",
    "                tiles, labels = tiles.cuda(), labels.cuda().float()\n",
    "                idx = int(tiles.shape[0] / 2)\n",
    "                inputs_a = tiles[:idx,:,:,:]\n",
    "                inputs_b = tiles[idx:,:,:,:]\n",
    "                labels_a = labels[:idx].unsqueeze(1)\n",
    "                labels_b = labels[idx:].unsqueeze(1)    \n",
    "\n",
    "                output_b = net(resnet(inputs_b))\n",
    "                logits = output_b.contiguous().view(-1).float().detach().cpu().numpy()\n",
    "                labels = labels_b.contiguous().view(-1).detach().cpu().numpy()\n",
    "                jpg_to_sample = jpg_to_sample[idx:].view(-1).float().numpy()\n",
    "                \n",
    "                all_logits.extend(logits)\n",
    "                all_labels.extend(labels)\n",
    "                all_types.extend([cancer_num] * idx)\n",
    "                all_jpgs.extend(jpg_to_sample)\n",
    "\n",
    "                loss = criterion(output_b, labels_b)\n",
    "                all_losses[step, batch_num] = loss.detach().cpu().item()\n",
    "            else:\n",
    "                # first forward pass, step \n",
    "                net.train()\n",
    "                output_a = net(resnet(inputs_a))\n",
    "                loss = criterion(output_a, labels_a)\n",
    "                loss.backward()\n",
    "                optimizer.step()            \n",
    "                # second forward pass   \n",
    "                net.eval()\n",
    "                output_b = net(resnet(inputs_b))\n",
    "                loss = criterion(output_b, labels_b)\n",
    "                #all_losses[step, batch_num] = loss.detach().cpu().item()\n",
    "        print(all_losses[:,batch_num])\n",
    "        #net.linear1.weight.data = theta_global[0].clone()\n",
    "        #net.linear1.bias.data = theta_global[1].clone()\n",
    "        #net.linear2.weight.data = theta_global[2].clone()\n",
    "        #net.linear2.bias.data = theta_global[3].clone()\n",
    "        net.update_params(theta_global)"
   ]
  },
  {
   "cell_type": "code",
   "execution_count": 10,
   "metadata": {},
   "outputs": [],
   "source": [
    "criterion = nn.BCEWithLogitsLoss(reduction='none')"
   ]
  },
  {
   "cell_type": "code",
   "execution_count": 12,
   "metadata": {},
   "outputs": [],
   "source": [
    "for cancer_num, val_loader in enumerate(val_loaders):\n",
    "    for batch_num,(tiles,labels,jpg_to_sample) in enumerate(val_loader):\n",
    "        break\n",
    "    break"
   ]
  },
  {
   "cell_type": "code",
   "execution_count": 13,
   "metadata": {},
   "outputs": [],
   "source": [
    "tiles, labels = tiles.cuda(), labels.cuda().float()\n",
    "idx = int(tiles.shape[0] / 2)\n",
    "inputs_a = tiles[:idx,:,:,:]\n",
    "inputs_b = tiles[idx:,:,:,:]\n",
    "labels_a = labels[:idx].unsqueeze(1)\n",
    "labels_b = labels[idx:].unsqueeze(1)    "
   ]
  },
  {
   "cell_type": "code",
   "execution_count": 14,
   "metadata": {},
   "outputs": [
    {
     "data": {
      "text/plain": [
       "torch.Size([200, 1])"
      ]
     },
     "execution_count": 14,
     "metadata": {},
     "output_type": "execute_result"
    }
   ],
   "source": [
    "#for step in range(num_steps):        \n",
    "#    optimizer.zero_grad()\n",
    "#    if step == 0:\n",
    "resnet.eval()\n",
    "net.eval()\n",
    "output_b = net(resnet(inputs_b))\n",
    "loss = criterion(output_b, labels_b)\n",
    "loss.shape"
   ]
  },
  {
   "cell_type": "code",
   "execution_count": 15,
   "metadata": {},
   "outputs": [
    {
     "data": {
      "text/plain": [
       "((200,), (200,), (200,))"
      ]
     },
     "execution_count": 15,
     "metadata": {},
     "output_type": "execute_result"
    }
   ],
   "source": [
    "#all_losses[step, batch_num] = loss.detach().cpu().item()\n",
    "logits = output_b.contiguous().view(-1).float().detach().cpu().numpy()\n",
    "labels = labels_b.contiguous().view(-1).detach().cpu().numpy()\n",
    "jpg_to_sample = jpg_to_sample[idx:].view(-1).float().numpy()\n",
    "logits.shape, labels.shape, jpg_to_sample.shape"
   ]
  },
  {
   "cell_type": "code",
   "execution_count": 17,
   "metadata": {},
   "outputs": [],
   "source": [
    "all_logits = []\n",
    "all_labels = []\n",
    "all_types = []\n",
    "all_jpgs = []"
   ]
  },
  {
   "cell_type": "code",
   "execution_count": 20,
   "metadata": {},
   "outputs": [],
   "source": [
    "all_logits.extend(logits)\n",
    "all_labels.extend(labels)\n",
    "all_types.extend([cancer_num] * idx)\n",
    "all_jpgs.extend(jpg_to_sample)"
   ]
  },
  {
   "cell_type": "code",
   "execution_count": 21,
   "metadata": {},
   "outputs": [
    {
     "data": {
      "text/html": [
       "<div>\n",
       "<style scoped>\n",
       "    .dataframe tbody tr th:only-of-type {\n",
       "        vertical-align: middle;\n",
       "    }\n",
       "\n",
       "    .dataframe tbody tr th {\n",
       "        vertical-align: top;\n",
       "    }\n",
       "\n",
       "    .dataframe thead th {\n",
       "        text-align: right;\n",
       "    }\n",
       "</style>\n",
       "<table border=\"1\" class=\"dataframe\">\n",
       "  <thead>\n",
       "    <tr style=\"text-align: right;\">\n",
       "      <th></th>\n",
       "      <th>label</th>\n",
       "      <th>logit</th>\n",
       "      <th>type</th>\n",
       "      <th>sample</th>\n",
       "    </tr>\n",
       "  </thead>\n",
       "  <tbody>\n",
       "    <tr>\n",
       "      <th>0</th>\n",
       "      <td>0.0</td>\n",
       "      <td>-68.785934</td>\n",
       "      <td>0</td>\n",
       "      <td>23.0</td>\n",
       "    </tr>\n",
       "    <tr>\n",
       "      <th>1</th>\n",
       "      <td>0.0</td>\n",
       "      <td>-17.854445</td>\n",
       "      <td>0</td>\n",
       "      <td>13.0</td>\n",
       "    </tr>\n",
       "    <tr>\n",
       "      <th>2</th>\n",
       "      <td>0.0</td>\n",
       "      <td>0.139046</td>\n",
       "      <td>0</td>\n",
       "      <td>24.0</td>\n",
       "    </tr>\n",
       "    <tr>\n",
       "      <th>3</th>\n",
       "      <td>0.0</td>\n",
       "      <td>-6.839326</td>\n",
       "      <td>0</td>\n",
       "      <td>49.0</td>\n",
       "    </tr>\n",
       "    <tr>\n",
       "      <th>4</th>\n",
       "      <td>1.0</td>\n",
       "      <td>140.686630</td>\n",
       "      <td>0</td>\n",
       "      <td>16.0</td>\n",
       "    </tr>\n",
       "  </tbody>\n",
       "</table>\n",
       "</div>"
      ],
      "text/plain": [
       "   label       logit  type  sample\n",
       "0    0.0  -68.785934     0    23.0\n",
       "1    0.0  -17.854445     0    13.0\n",
       "2    0.0    0.139046     0    24.0\n",
       "3    0.0   -6.839326     0    49.0\n",
       "4    1.0  140.686630     0    16.0"
      ]
     },
     "execution_count": 21,
     "metadata": {},
     "output_type": "execute_result"
    }
   ],
   "source": [
    "d = {'label': all_labels, 'logit': all_logits, 'type': all_types, 'sample': all_jpgs}\n",
    "df = pd.DataFrame(data = d)\n",
    "df.head(5)"
   ]
  },
  {
   "cell_type": "code",
   "execution_count": 24,
   "metadata": {},
   "outputs": [
    {
     "data": {
      "text/html": [
       "<div>\n",
       "<style scoped>\n",
       "    .dataframe tbody tr th:only-of-type {\n",
       "        vertical-align: middle;\n",
       "    }\n",
       "\n",
       "    .dataframe tbody tr th {\n",
       "        vertical-align: top;\n",
       "    }\n",
       "\n",
       "    .dataframe thead th {\n",
       "        text-align: right;\n",
       "    }\n",
       "</style>\n",
       "<table border=\"1\" class=\"dataframe\">\n",
       "  <thead>\n",
       "    <tr style=\"text-align: right;\">\n",
       "      <th></th>\n",
       "      <th></th>\n",
       "      <th>label</th>\n",
       "      <th>logit</th>\n",
       "    </tr>\n",
       "    <tr>\n",
       "      <th>type</th>\n",
       "      <th>sample</th>\n",
       "      <th></th>\n",
       "      <th></th>\n",
       "    </tr>\n",
       "  </thead>\n",
       "  <tbody>\n",
       "    <tr>\n",
       "      <th rowspan=\"5\" valign=\"top\">0</th>\n",
       "      <th>0.0</th>\n",
       "      <td>0.0</td>\n",
       "      <td>-118.0</td>\n",
       "    </tr>\n",
       "    <tr>\n",
       "      <th>1.0</th>\n",
       "      <td>0.0</td>\n",
       "      <td>-53.0</td>\n",
       "    </tr>\n",
       "    <tr>\n",
       "      <th>2.0</th>\n",
       "      <td>1.0</td>\n",
       "      <td>60.0</td>\n",
       "    </tr>\n",
       "    <tr>\n",
       "      <th>3.0</th>\n",
       "      <td>0.0</td>\n",
       "      <td>-87.0</td>\n",
       "    </tr>\n",
       "    <tr>\n",
       "      <th>4.0</th>\n",
       "      <td>0.0</td>\n",
       "      <td>-76.0</td>\n",
       "    </tr>\n",
       "  </tbody>\n",
       "</table>\n",
       "</div>"
      ],
      "text/plain": [
       "             label  logit\n",
       "type sample              \n",
       "0    0.0       0.0 -118.0\n",
       "     1.0       0.0  -53.0\n",
       "     2.0       1.0   60.0\n",
       "     3.0       0.0  -87.0\n",
       "     4.0       0.0  -76.0"
      ]
     },
     "execution_count": 24,
     "metadata": {},
     "output_type": "execute_result"
    }
   ],
   "source": [
    "df2 = df.groupby(['type','sample'])['label','logit'].mean().round()\n",
    "df2.head(5)"
   ]
  },
  {
   "cell_type": "code",
   "execution_count": 54,
   "metadata": {},
   "outputs": [
    {
     "data": {
      "text/plain": [
       "tensor([0.0000e+00, 0.0000e+00, 0.0000e+00, 0.0000e+00, 0.0000e+00, 0.0000e+00,\n",
       "        0.0000e+00, 2.2204e-16, 9.1147e-04, 0.0000e+00, 0.0000e+00, 0.0000e+00,\n",
       "        6.9145e-13, 2.7895e-10, 0.0000e+00, 1.8796e-12, 0.0000e+00, 0.0000e+00,\n",
       "        1.2340e-04, 3.3541e-04, 0.0000e+00, 0.0000e+00, 0.0000e+00, 0.0000e+00,\n",
       "        0.0000e+00, 2.4000e+01, 0.0000e+00, 3.9000e+01, 0.0000e+00, 0.0000e+00,\n",
       "        0.0000e+00, 6.0025e+00, 6.3000e+01, 0.0000e+00, 0.0000e+00, 3.8000e+01,\n",
       "        0.0000e+00, 0.0000e+00, 5.8000e+01, 0.0000e+00, 7.7000e+01, 1.6702e-05,\n",
       "        0.0000e+00, 0.0000e+00, 0.0000e+00, 1.2000e+01], device='cuda:0',\n",
       "       dtype=torch.float64)"
      ]
     },
     "execution_count": 54,
     "metadata": {},
     "output_type": "execute_result"
    }
   ],
   "source": [
    "loss = criterion(torch.tensor(df2['logit'].values, device=device), torch.tensor(df2['label'].values, device=device))\n",
    "loss"
   ]
  },
  {
   "cell_type": "code",
   "execution_count": 55,
   "metadata": {},
   "outputs": [
    {
     "data": {
      "text/plain": [
       "tensor(18.1343, device='cuda:0', dtype=torch.float64)"
      ]
     },
     "execution_count": 55,
     "metadata": {},
     "output_type": "execute_result"
    }
   ],
   "source": [
    "torch.std(loss)"
   ]
  },
  {
   "cell_type": "code",
   "execution_count": 56,
   "metadata": {},
   "outputs": [
    {
     "data": {
      "text/plain": [
       "tensor(6.8914, device='cuda:0', dtype=torch.float64)"
      ]
     },
     "execution_count": 56,
     "metadata": {},
     "output_type": "execute_result"
    }
   ],
   "source": [
    "torch.mean(loss)"
   ]
  },
  {
   "cell_type": "code",
   "execution_count": 57,
   "metadata": {},
   "outputs": [
    {
     "data": {
      "text/plain": [
       "tensor(0., device='cuda:0', dtype=torch.float64)"
      ]
     },
     "execution_count": 57,
     "metadata": {},
     "output_type": "execute_result"
    }
   ],
   "source": [
    "torch.median(loss)"
   ]
  },
  {
   "cell_type": "code",
   "execution_count": 58,
   "metadata": {},
   "outputs": [
    {
     "data": {
      "text/plain": [
       "tensor([1.0000e+00, 1.0000e+00, 1.0000e+00, 1.0000e+00, 1.0000e+00, 1.0000e+00,\n",
       "        1.0000e+00, 1.0000e+00, 9.9909e-01, 1.0000e+00, 1.0000e+00, 1.0000e+00,\n",
       "        1.0000e+00, 1.0000e+00, 1.0000e+00, 1.0000e+00, 1.0000e+00, 1.0000e+00,\n",
       "        9.9988e-01, 9.9966e-01, 1.0000e+00, 1.0000e+00, 1.0000e+00, 1.0000e+00,\n",
       "        1.0000e+00, 3.7751e-11, 1.0000e+00, 1.1548e-17, 1.0000e+00, 1.0000e+00,\n",
       "        1.0000e+00, 2.4726e-03, 4.3596e-28, 1.0000e+00, 1.0000e+00, 3.1391e-17,\n",
       "        1.0000e+00, 1.0000e+00, 6.4702e-26, 1.0000e+00, 3.6251e-34, 9.9998e-01,\n",
       "        1.0000e+00, 1.0000e+00, 1.0000e+00, 6.1442e-06], device='cuda:0',\n",
       "       dtype=torch.float64)"
      ]
     },
     "execution_count": 58,
     "metadata": {},
     "output_type": "execute_result"
    }
   ],
   "source": [
    "torch.exp(-loss)"
   ]
  },
  {
   "cell_type": "code",
   "execution_count": 42,
   "metadata": {},
   "outputs": [
    {
     "data": {
      "text/plain": [
       "tensor([0.0000e+00, 0.0000e+00, 7.6509e-01, 1.0703e-03, 0.0000e+00, 0.0000e+00,\n",
       "        2.6226e-06, 0.0000e+00, 0.0000e+00, 7.3725e+01, 0.0000e+00, 2.4173e-01,\n",
       "        0.0000e+00, 5.1260e-06, 0.0000e+00, 0.0000e+00, 0.0000e+00, 0.0000e+00,\n",
       "        0.0000e+00, 0.0000e+00, 0.0000e+00, 0.0000e+00, 0.0000e+00, 0.0000e+00,\n",
       "        4.0036e+01, 4.8427e+00, 2.9313e+01, 8.8214e-06, 8.7949e+01, 0.0000e+00,\n",
       "        0.0000e+00, 0.0000e+00, 0.0000e+00, 0.0000e+00, 3.1984e+01, 0.0000e+00,\n",
       "        0.0000e+00, 0.0000e+00, 0.0000e+00, 3.8550e+01, 0.0000e+00, 4.9792e+01,\n",
       "        0.0000e+00, 0.0000e+00, 0.0000e+00, 0.0000e+00, 0.0000e+00, 0.0000e+00,\n",
       "        7.7136e+01, 0.0000e+00, 1.1921e-07, 0.0000e+00, 0.0000e+00, 0.0000e+00,\n",
       "        0.0000e+00, 0.0000e+00, 3.0154e+01, 0.0000e+00, 3.2358e+01, 4.0903e+01,\n",
       "        5.6804e+01, 0.0000e+00, 3.7832e+01, 0.0000e+00, 0.0000e+00, 0.0000e+00,\n",
       "        0.0000e+00, 0.0000e+00, 0.0000e+00, 0.0000e+00, 0.0000e+00, 1.4305e-06,\n",
       "        0.0000e+00, 0.0000e+00, 0.0000e+00, 0.0000e+00, 0.0000e+00, 0.0000e+00,\n",
       "        0.0000e+00, 2.4277e+01, 0.0000e+00, 0.0000e+00, 0.0000e+00, 0.0000e+00,\n",
       "        0.0000e+00, 0.0000e+00, 0.0000e+00, 7.4407e+01, 0.0000e+00, 0.0000e+00,\n",
       "        6.1199e+01, 0.0000e+00, 0.0000e+00, 0.0000e+00, 0.0000e+00, 0.0000e+00,\n",
       "        0.0000e+00, 2.4720e+01, 5.7235e+01, 6.7236e+01, 1.4639e+01, 2.0981e-05,\n",
       "        0.0000e+00, 0.0000e+00, 0.0000e+00, 0.0000e+00, 0.0000e+00, 0.0000e+00,\n",
       "        0.0000e+00, 0.0000e+00, 0.0000e+00, 0.0000e+00, 0.0000e+00, 2.2596e+01,\n",
       "        4.0761e-04, 0.0000e+00, 0.0000e+00, 0.0000e+00, 0.0000e+00, 1.3633e+02,\n",
       "        0.0000e+00, 0.0000e+00, 0.0000e+00, 2.6305e+01, 0.0000e+00, 0.0000e+00,\n",
       "        0.0000e+00, 3.0139e+01, 0.0000e+00, 0.0000e+00, 4.5003e+01, 0.0000e+00,\n",
       "        0.0000e+00, 2.1862e+01, 0.0000e+00, 0.0000e+00, 0.0000e+00, 0.0000e+00,\n",
       "        5.1260e-06, 0.0000e+00, 0.0000e+00, 0.0000e+00, 4.6783e+01, 0.0000e+00,\n",
       "        0.0000e+00, 9.0995e-01, 0.0000e+00, 0.0000e+00, 0.0000e+00, 0.0000e+00,\n",
       "        0.0000e+00, 0.0000e+00, 0.0000e+00, 4.6227e+01, 9.7544e+00, 0.0000e+00,\n",
       "        0.0000e+00, 0.0000e+00, 0.0000e+00, 0.0000e+00, 4.2014e-02, 0.0000e+00,\n",
       "        0.0000e+00, 0.0000e+00, 0.0000e+00, 0.0000e+00, 0.0000e+00, 0.0000e+00,\n",
       "        0.0000e+00, 0.0000e+00, 0.0000e+00, 0.0000e+00, 0.0000e+00, 0.0000e+00,\n",
       "        0.0000e+00, 0.0000e+00, 0.0000e+00, 2.8362e+01, 1.1491e+01, 7.4603e+01,\n",
       "        1.1921e-07, 1.1682e-05, 7.8883e+01, 0.0000e+00, 0.0000e+00, 5.4668e+01,\n",
       "        0.0000e+00, 0.0000e+00, 0.0000e+00, 0.0000e+00, 3.6904e+01, 0.0000e+00,\n",
       "        2.4558e+01, 0.0000e+00, 0.0000e+00, 0.0000e+00, 0.0000e+00, 0.0000e+00,\n",
       "        0.0000e+00, 6.0938e+01], device='cuda:0',\n",
       "       grad_fn=<BinaryCrossEntropyWithLogitsBackward>)"
      ]
     },
     "execution_count": 42,
     "metadata": {},
     "output_type": "execute_result"
    }
   ],
   "source": [
    "loss = criterion(output_b.squeeze(), labels_b.squeeze())\n",
    "loss"
   ]
  },
  {
   "cell_type": "code",
   "execution_count": 62,
   "metadata": {},
   "outputs": [
    {
     "data": {
      "image/png": "[encoded data removed]",
      "text/plain": [
       "<Figure size 432x288 with 1 Axes>"
      ]
     },
     "metadata": {},
     "output_type": "display_data"
    }
   ],
   "source": [
    "import matplotlib.pyplot as plt\n",
    "\n",
    "plt.hist(torch.exp(-loss).detach().cpu().numpy(), bins=100, density=True)\n",
    "plt.show()"
   ]
  },
  {
   "cell_type": "code",
   "execution_count": 92,
   "metadata": {},
   "outputs": [
    {
     "name": "stdout",
     "output_type": "stream",
     "text": [
      "0 1 2 3 4 5 6 7 8 9 10 11 12 13 14 15 16 17 18 19 20 21 22 23 24 25 26 27 28 29 30 31 32 33 34 35 36 37 38 39 40 41 42 43 44 45 46 47 48 49 50 51 52 53 54 55 56 57 58 59 60 61 62 63 64 65 66 67 68 69 70 71 72 73 74 75 76 77 78 79 80 81 82 83 84 85 86 87 88 89 90 91 92 93 94 95 96 97 98 99 100 101 102 103 104 105 106 107 108 109 110 111 112 113 114 115 116 117 118 119 120 121 122 123 124 125 126 127 128 129 130 131 132 133 134 135 136 137 138 139 140 141 142 143 144 145 146 147 148 149 150 151 152 153 154 155 156 157 158 159 160 161 162 163 164 165 166 167 168 169 170 171 172 173 174 175 176 177 178 179 180 181 182 183 184 185 186 187 188 189 190 191 192 193 194 195 196 197 198 199 200 201 202 203 204 205 206 207 208 209 210 211 212 213 214 215 216 217 218 219 220 221 222 223 224 225 226 227 228 229 230 231 232 233 234 235 236 237 238 239 240 241 242 243 244 245 246 247 248 249 250 251 252 253 254 255 256 257 258 259 260 261 262 263 264 265 266 267 268 269 270 271 272 273 274 275 276 277 278 279 280 281 282 283 284 285 286 287 288 289 290 291 292 293 294 295 296 297 298 299 "
     ]
    }
   ],
   "source": [
    "all_logits = []\n",
    "all_labels = []\n",
    "all_types = []\n",
    "all_jpgs = []\n",
    "\n",
    "net.eval()\n",
    "cancer_num = 0\n",
    "for batch_num,(tiles,labels,jpg_to_sample) in enumerate(val_loaders[1]):\n",
    "    print(batch_num, end=' ')\n",
    "    tiles, labels = tiles.cuda(), labels.cuda().float()\n",
    "    idx = int(tiles.shape[0] / 2)\n",
    "    #inputs_a = tiles[:idx,:,:,:]\n",
    "    inputs_b = tiles[idx:,:,:,:]\n",
    "    #labels_a = labels[:idx].unsqueeze(1)\n",
    "    labels_b = labels[idx:].unsqueeze(1)    \n",
    "\n",
    "    output_b = net(resnet(inputs_b))\n",
    "    logits = output_b.contiguous().view(-1).float().detach().cpu().numpy()\n",
    "    labels = labels_b.contiguous().view(-1).detach().cpu().numpy()\n",
    "    jpg_to_sample = jpg_to_sample[idx:].view(-1).float().numpy()\n",
    "\n",
    "    all_logits.extend(logits)\n",
    "    all_labels.extend(labels)\n",
    "    all_types.extend([cancer_num] * round(tiles.shape[0] / 2))\n",
    "    all_jpgs.extend(jpg_to_sample)"
   ]
  },
  {
   "cell_type": "code",
   "execution_count": 93,
   "metadata": {},
   "outputs": [
    {
     "data": {
      "text/plain": [
       "(59912, 59912, 59912, 59912)"
      ]
     },
     "execution_count": 93,
     "metadata": {},
     "output_type": "execute_result"
    }
   ],
   "source": [
    "len(all_labels), len(all_logits), len(all_types), len(all_jpgs)"
   ]
  },
  {
   "cell_type": "code",
   "execution_count": 94,
   "metadata": {},
   "outputs": [
    {
     "data": {
      "text/html": [
       "<div>\n",
       "<style scoped>\n",
       "    .dataframe tbody tr th:only-of-type {\n",
       "        vertical-align: middle;\n",
       "    }\n",
       "\n",
       "    .dataframe tbody tr th {\n",
       "        vertical-align: top;\n",
       "    }\n",
       "\n",
       "    .dataframe thead th {\n",
       "        text-align: right;\n",
       "    }\n",
       "</style>\n",
       "<table border=\"1\" class=\"dataframe\">\n",
       "  <thead>\n",
       "    <tr style=\"text-align: right;\">\n",
       "      <th></th>\n",
       "      <th></th>\n",
       "      <th>label</th>\n",
       "      <th>logit</th>\n",
       "    </tr>\n",
       "    <tr>\n",
       "      <th>type</th>\n",
       "      <th>sample</th>\n",
       "      <th></th>\n",
       "      <th></th>\n",
       "    </tr>\n",
       "  </thead>\n",
       "  <tbody>\n",
       "    <tr>\n",
       "      <th rowspan=\"36\" valign=\"top\">0</th>\n",
       "      <th>0.0</th>\n",
       "      <td>1.0</td>\n",
       "      <td>-88.0</td>\n",
       "    </tr>\n",
       "    <tr>\n",
       "      <th>1.0</th>\n",
       "      <td>0.0</td>\n",
       "      <td>-60.0</td>\n",
       "    </tr>\n",
       "    <tr>\n",
       "      <th>2.0</th>\n",
       "      <td>0.0</td>\n",
       "      <td>-104.0</td>\n",
       "    </tr>\n",
       "    <tr>\n",
       "      <th>3.0</th>\n",
       "      <td>0.0</td>\n",
       "      <td>-85.0</td>\n",
       "    </tr>\n",
       "    <tr>\n",
       "      <th>4.0</th>\n",
       "      <td>0.0</td>\n",
       "      <td>-64.0</td>\n",
       "    </tr>\n",
       "    <tr>\n",
       "      <th>5.0</th>\n",
       "      <td>1.0</td>\n",
       "      <td>-43.0</td>\n",
       "    </tr>\n",
       "    <tr>\n",
       "      <th>6.0</th>\n",
       "      <td>0.0</td>\n",
       "      <td>-112.0</td>\n",
       "    </tr>\n",
       "    <tr>\n",
       "      <th>7.0</th>\n",
       "      <td>1.0</td>\n",
       "      <td>-22.0</td>\n",
       "    </tr>\n",
       "    <tr>\n",
       "      <th>8.0</th>\n",
       "      <td>0.0</td>\n",
       "      <td>-72.0</td>\n",
       "    </tr>\n",
       "    <tr>\n",
       "      <th>9.0</th>\n",
       "      <td>0.0</td>\n",
       "      <td>-104.0</td>\n",
       "    </tr>\n",
       "    <tr>\n",
       "      <th>10.0</th>\n",
       "      <td>1.0</td>\n",
       "      <td>-56.0</td>\n",
       "    </tr>\n",
       "    <tr>\n",
       "      <th>11.0</th>\n",
       "      <td>1.0</td>\n",
       "      <td>-85.0</td>\n",
       "    </tr>\n",
       "    <tr>\n",
       "      <th>12.0</th>\n",
       "      <td>0.0</td>\n",
       "      <td>-75.0</td>\n",
       "    </tr>\n",
       "    <tr>\n",
       "      <th>13.0</th>\n",
       "      <td>0.0</td>\n",
       "      <td>-126.0</td>\n",
       "    </tr>\n",
       "    <tr>\n",
       "      <th>14.0</th>\n",
       "      <td>1.0</td>\n",
       "      <td>-69.0</td>\n",
       "    </tr>\n",
       "    <tr>\n",
       "      <th>15.0</th>\n",
       "      <td>0.0</td>\n",
       "      <td>-105.0</td>\n",
       "    </tr>\n",
       "    <tr>\n",
       "      <th>16.0</th>\n",
       "      <td>0.0</td>\n",
       "      <td>-107.0</td>\n",
       "    </tr>\n",
       "    <tr>\n",
       "      <th>17.0</th>\n",
       "      <td>1.0</td>\n",
       "      <td>-98.0</td>\n",
       "    </tr>\n",
       "    <tr>\n",
       "      <th>18.0</th>\n",
       "      <td>0.0</td>\n",
       "      <td>-62.0</td>\n",
       "    </tr>\n",
       "    <tr>\n",
       "      <th>19.0</th>\n",
       "      <td>0.0</td>\n",
       "      <td>-37.0</td>\n",
       "    </tr>\n",
       "    <tr>\n",
       "      <th>20.0</th>\n",
       "      <td>0.0</td>\n",
       "      <td>-60.0</td>\n",
       "    </tr>\n",
       "    <tr>\n",
       "      <th>21.0</th>\n",
       "      <td>1.0</td>\n",
       "      <td>-63.0</td>\n",
       "    </tr>\n",
       "    <tr>\n",
       "      <th>22.0</th>\n",
       "      <td>0.0</td>\n",
       "      <td>-55.0</td>\n",
       "    </tr>\n",
       "    <tr>\n",
       "      <th>23.0</th>\n",
       "      <td>1.0</td>\n",
       "      <td>-56.0</td>\n",
       "    </tr>\n",
       "    <tr>\n",
       "      <th>24.0</th>\n",
       "      <td>1.0</td>\n",
       "      <td>-67.0</td>\n",
       "    </tr>\n",
       "    <tr>\n",
       "      <th>25.0</th>\n",
       "      <td>0.0</td>\n",
       "      <td>-120.0</td>\n",
       "    </tr>\n",
       "    <tr>\n",
       "      <th>26.0</th>\n",
       "      <td>1.0</td>\n",
       "      <td>-56.0</td>\n",
       "    </tr>\n",
       "    <tr>\n",
       "      <th>27.0</th>\n",
       "      <td>1.0</td>\n",
       "      <td>-91.0</td>\n",
       "    </tr>\n",
       "    <tr>\n",
       "      <th>28.0</th>\n",
       "      <td>0.0</td>\n",
       "      <td>-62.0</td>\n",
       "    </tr>\n",
       "    <tr>\n",
       "      <th>29.0</th>\n",
       "      <td>0.0</td>\n",
       "      <td>-46.0</td>\n",
       "    </tr>\n",
       "    <tr>\n",
       "      <th>30.0</th>\n",
       "      <td>1.0</td>\n",
       "      <td>-48.0</td>\n",
       "    </tr>\n",
       "    <tr>\n",
       "      <th>31.0</th>\n",
       "      <td>1.0</td>\n",
       "      <td>-145.0</td>\n",
       "    </tr>\n",
       "    <tr>\n",
       "      <th>32.0</th>\n",
       "      <td>0.0</td>\n",
       "      <td>-84.0</td>\n",
       "    </tr>\n",
       "    <tr>\n",
       "      <th>33.0</th>\n",
       "      <td>0.0</td>\n",
       "      <td>-106.0</td>\n",
       "    </tr>\n",
       "    <tr>\n",
       "      <th>34.0</th>\n",
       "      <td>0.0</td>\n",
       "      <td>-81.0</td>\n",
       "    </tr>\n",
       "    <tr>\n",
       "      <th>35.0</th>\n",
       "      <td>0.0</td>\n",
       "      <td>-115.0</td>\n",
       "    </tr>\n",
       "  </tbody>\n",
       "</table>\n",
       "</div>"
      ],
      "text/plain": [
       "             label  logit\n",
       "type sample              \n",
       "0    0.0       1.0  -88.0\n",
       "     1.0       0.0  -60.0\n",
       "     2.0       0.0 -104.0\n",
       "     3.0       0.0  -85.0\n",
       "     4.0       0.0  -64.0\n",
       "     5.0       1.0  -43.0\n",
       "     6.0       0.0 -112.0\n",
       "     7.0       1.0  -22.0\n",
       "     8.0       0.0  -72.0\n",
       "     9.0       0.0 -104.0\n",
       "     10.0      1.0  -56.0\n",
       "     11.0      1.0  -85.0\n",
       "     12.0      0.0  -75.0\n",
       "     13.0      0.0 -126.0\n",
       "     14.0      1.0  -69.0\n",
       "     15.0      0.0 -105.0\n",
       "     16.0      0.0 -107.0\n",
       "     17.0      1.0  -98.0\n",
       "     18.0      0.0  -62.0\n",
       "     19.0      0.0  -37.0\n",
       "     20.0      0.0  -60.0\n",
       "     21.0      1.0  -63.0\n",
       "     22.0      0.0  -55.0\n",
       "     23.0      1.0  -56.0\n",
       "     24.0      1.0  -67.0\n",
       "     25.0      0.0 -120.0\n",
       "     26.0      1.0  -56.0\n",
       "     27.0      1.0  -91.0\n",
       "     28.0      0.0  -62.0\n",
       "     29.0      0.0  -46.0\n",
       "     30.0      1.0  -48.0\n",
       "     31.0      1.0 -145.0\n",
       "     32.0      0.0  -84.0\n",
       "     33.0      0.0 -106.0\n",
       "     34.0      0.0  -81.0\n",
       "     35.0      0.0 -115.0"
      ]
     },
     "execution_count": 94,
     "metadata": {},
     "output_type": "execute_result"
    }
   ],
   "source": [
    "d = {'label': all_labels, 'logit': all_logits, 'type': all_types, 'sample': all_jpgs}\n",
    "df = pd.DataFrame(data = d)\n",
    "df2 = df.groupby(['type','sample'])['label','logit'].mean().round()\n",
    "df2"
   ]
  },
  {
   "cell_type": "code",
   "execution_count": 95,
   "metadata": {},
   "outputs": [],
   "source": [
    "loss = criterion(torch.tensor(df2['logit'].values, device=device), torch.tensor(df2['label'].values, device=device))"
   ]
  },
  {
   "cell_type": "code",
   "execution_count": 96,
   "metadata": {},
   "outputs": [
    {
     "data": {
      "text/plain": [
       "(array([22.,  1.,  1.,  4.,  3.,  1.,  3.,  0.,  0.,  1.]),\n",
       " array([  0. ,  14.5,  29. ,  43.5,  58. ,  72.5,  87. , 101.5, 116. ,\n",
       "        130.5, 145. ]),\n",
       " <a list of 10 Patch objects>)"
      ]
     },
     "execution_count": 96,
     "metadata": {},
     "output_type": "execute_result"
    },
    {
     "data": {
      "image/png": "[encoded data removed]",
      "text/plain": [
       "<Figure size 432x288 with 1 Axes>"
      ]
     },
     "metadata": {},
     "output_type": "display_data"
    }
   ],
   "source": [
    "plt.hist(loss.detach().cpu().numpy())"
   ]
  },
  {
   "cell_type": "code",
   "execution_count": 97,
   "metadata": {},
   "outputs": [],
   "source": [
    "df2['loss'] = loss.detach().cpu().numpy()"
   ]
  },
  {
   "cell_type": "code",
   "execution_count": 88,
   "metadata": {},
   "outputs": [
    {
     "data": {
      "text/plain": [
       "label\n",
       "0.0    [[AxesSubplot(0.125,0.125;0.336957x0.755), Axe...\n",
       "1.0    [[AxesSubplot(0.125,0.125;0.336957x0.755), Axe...\n",
       "dtype: object"
      ]
     },
     "execution_count": 88,
     "metadata": {},
     "output_type": "execute_result"
    },
    {
     "data": {
      "image/png": "[encoded data removed]",
      "text/plain": [
       "<Figure size 432x288 with 2 Axes>"
      ]
     },
     "metadata": {},
     "output_type": "display_data"
    },
    {
     "data": {
      "image/png": "[encoded data removed]",
      "text/plain": [
       "<Figure size 432x288 with 2 Axes>"
      ]
     },
     "metadata": {},
     "output_type": "display_data"
    }
   ],
   "source": [
    "df2.groupby(['label']).hist()"
   ]
  },
  {
   "cell_type": "code",
   "execution_count": 98,
   "metadata": {},
   "outputs": [
    {
     "data": {
      "image/png": "[encoded data removed]",
      "text/plain": [
       "<Figure size 432x288 with 1 Axes>"
      ]
     },
     "metadata": {},
     "output_type": "display_data"
    }
   ],
   "source": [
    "import scipy\n",
    "from sklearn import metrics\n",
    "fpr, tpr, thresholds = metrics.roc_curve(np.array(df2['label']), scipy.special.expit(np.array(df2['logit'])))\n",
    "roc_auc = metrics.auc(fpr, tpr)\n",
    "\n",
    "plt.figure()\n",
    "lw = 2\n",
    "plt.plot(fpr, tpr, color='darkorange', lw=lw, label='ROC curve (area = %0.2f)' % roc_auc)\n",
    "plt.plot([0, 1], [0, 1], color='navy', lw=lw, linestyle='--')\n",
    "plt.xlim([0.0, 1.0])\n",
    "plt.ylim([0.0, 1.05])\n",
    "plt.xlabel('False Positive Rate')\n",
    "plt.ylabel('True Positive Rate')\n",
    "plt.title('Slide-level receiver operating characteristic (WGD)')\n",
    "plt.legend(loc=\"lower right\")\n",
    "plt.show()"
   ]
  },
  {
   "cell_type": "code",
   "execution_count": null,
   "metadata": {},
   "outputs": [],
   "source": []
  }
 ],
 "metadata": {
  "kernelspec": {
   "display_name": "Python 3",
   "language": "python",
   "name": "python3"
  },
  "language_info": {
   "codemirror_mode": {
    "name": "ipython",
    "version": 3
   },
   "file_extension": ".py",
   "mimetype": "text/x-python",
   "name": "python",
   "nbconvert_exporter": "python",
   "pygments_lexer": "ipython3",
   "version": "3.6.7"
  }
 },
 "nbformat": 4,
 "nbformat_minor": 2
}
