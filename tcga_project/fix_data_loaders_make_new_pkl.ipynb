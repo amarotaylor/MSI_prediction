{
 "cells": [
  {
   "cell_type": "code",
   "execution_count": 1,
   "metadata": {},
   "outputs": [],
   "source": [
    "import data_utils\n",
    "import pandas as pd\n",
    "import pickle\n",
    "%reload_ext autoreload\n",
    "%autoreload 2"
   ]
  },
  {
   "cell_type": "code",
   "execution_count": 2,
   "metadata": {},
   "outputs": [],
   "source": [
    "HNSC_sa  = data_utils.process_WGD_data(root_dir='/n/mounted-data-drive/', cancer_type='HNSC_10x', wgd_path='ALL_WGD_TABLE.xlsx', \n",
    "                     wgd_raw=None, split_in_two=False, print_stats=False)"
   ]
  },
  {
   "cell_type": "code",
   "execution_count": 5,
   "metadata": {},
   "outputs": [],
   "source": [
    "for key in HNSC_sa[0].keys():\n",
    "    if HNSC_sa[0][key]>1:\n",
    "         HNSC_sa[0][key]=1\n",
    "            \n",
    "for key in HNSC_sa[1].keys():\n",
    "    if HNSC_sa[1][key]>1:\n",
    "         HNSC_sa[1][key]=1"
   ]
  },
  {
   "cell_type": "code",
   "execution_count": 6,
   "metadata": {},
   "outputs": [],
   "source": [
    "pickle_file = '/home/sxchao/MSI_prediction/tcga_project/tcga_wgd_sa_all.pkl'\n",
    "batch_all,sat1,sav1,sat2,sav2 = data_utils.load_COAD_train_val_sa_pickle(pickle_file=pickle_file,\n",
    "                                                                                   return_all_cancers=True, \n",
    "                                                                                   split_in_two=True)"
   ]
  },
  {
   "cell_type": "code",
   "execution_count": 7,
   "metadata": {},
   "outputs": [
    {
     "data": {
      "text/plain": [
       "6"
      ]
     },
     "execution_count": 7,
     "metadata": {},
     "output_type": "execute_result"
    }
   ],
   "source": [
    "batch_all.index('HNSC_10x')"
   ]
  },
  {
   "cell_type": "code",
   "execution_count": 8,
   "metadata": {},
   "outputs": [],
   "source": [
    "sa_trains = [dict(sat1[idx], **sat2[idx]) for idx,_ in enumerate(sat1)]\n",
    "sa_vals = [dict(sav1[idx], **sav2[idx]) for idx,_ in enumerate(sav1)]\n"
   ]
  },
  {
   "cell_type": "code",
   "execution_count": 9,
   "metadata": {},
   "outputs": [
    {
     "data": {
      "text/plain": [
       "(346, 87)"
      ]
     },
     "execution_count": 9,
     "metadata": {},
     "output_type": "execute_result"
    }
   ],
   "source": [
    "len(HNSC_sa[0]),len(HNSC_sa[1])"
   ]
  },
  {
   "cell_type": "code",
   "execution_count": 10,
   "metadata": {},
   "outputs": [],
   "source": [
    "sa_trains[batch_all.index('HNSC_10x')] = HNSC_sa[0]\n",
    "sa_vals[batch_all.index('HNSC_10x')] = HNSC_sa[1]"
   ]
  },
  {
   "cell_type": "code",
   "execution_count": 11,
   "metadata": {},
   "outputs": [],
   "source": [
    "new_pickle_file = '/n/tcga_wgd_sa_all_1.0.pkl'\n",
    "with open(new_pickle_file, 'wb') as f:\n",
    "    pickle.dump([batch_all, sa_trains, sa_vals], f)\n",
    "    \n",
    "    "
   ]
  },
  {
   "cell_type": "code",
   "execution_count": null,
   "metadata": {},
   "outputs": [],
   "source": []
  }
 ],
 "metadata": {
  "kernelspec": {
   "display_name": "Python 3",
   "language": "python",
   "name": "python3"
  },
  "language_info": {
   "codemirror_mode": {
    "name": "ipython",
    "version": 3
   },
   "file_extension": ".py",
   "mimetype": "text/x-python",
   "name": "python",
   "nbconvert_exporter": "python",
   "pygments_lexer": "ipython3",
   "version": "3.6.7"
  }
 },
 "nbformat": 4,
 "nbformat_minor": 2
}
