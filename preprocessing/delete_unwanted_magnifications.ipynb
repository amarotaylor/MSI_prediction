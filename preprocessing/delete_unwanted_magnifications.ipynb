{
 "cells": [
  {
   "cell_type": "code",
   "execution_count": 31,
   "metadata": {},
   "outputs": [],
   "source": [
    "import os\n",
    "import shutil"
   ]
  },
  {
   "cell_type": "code",
   "execution_count": 32,
   "metadata": {},
   "outputs": [],
   "source": [
    "root_dir = '/n/mounted-data-drive/'\n",
    "cancer_types = ['COAD', 'BRCA', 'UCEC']\n",
    "keep = ['5.0', '10.0']"
   ]
  },
  {
   "cell_type": "code",
   "execution_count": 33,
   "metadata": {},
   "outputs": [
    {
     "data": {
      "text/plain": [
       "'/n/mounted-data-drive/UCEC'"
      ]
     },
     "execution_count": 33,
     "metadata": {},
     "output_type": "execute_result"
    }
   ],
   "source": [
    "i = 2\n",
    "cancer_dir = root_dir + cancer_types[i]\n",
    "cancer_dir"
   ]
  },
  {
   "cell_type": "code",
   "execution_count": 34,
   "metadata": {},
   "outputs": [
    {
     "data": {
      "text/plain": [
       "507"
      ]
     },
     "execution_count": 34,
     "metadata": {},
     "output_type": "execute_result"
    }
   ],
   "source": [
    "sample_dirs = os.listdir(cancer_dir)\n",
    "len(sample_dirs)"
   ]
  },
  {
   "cell_type": "code",
   "execution_count": 35,
   "metadata": {},
   "outputs": [],
   "source": [
    "for j in range(len(sample_dirs)):\n",
    "    sample_dir = cancer_dir + '/' + sample_dirs[j] + '/' + sample_dirs[j][:-4] + '_files'\n",
    "    mag_dirs = os.listdir(sample_dir)\n",
    "\n",
    "    for k in keep:\n",
    "        if k in mag_dirs:\n",
    "            mag_dirs.remove(k)\n",
    "\n",
    "    for m in mag_dirs:\n",
    "        del_dir = sample_dir + '/' + m\n",
    "        shutil.rmtree(del_dir)"
   ]
  },
  {
   "cell_type": "code",
   "execution_count": null,
   "metadata": {},
   "outputs": [],
   "source": []
  }
 ],
 "metadata": {
  "kernelspec": {
   "display_name": "Python 3",
   "language": "python",
   "name": "python3"
  },
  "language_info": {
   "codemirror_mode": {
    "name": "ipython",
    "version": 3
   },
   "file_extension": ".py",
   "mimetype": "text/x-python",
   "name": "python",
   "nbconvert_exporter": "python",
   "pygments_lexer": "ipython3",
   "version": "3.6.7"
  }
 },
 "nbformat": 4,
 "nbformat_minor": 2
}
