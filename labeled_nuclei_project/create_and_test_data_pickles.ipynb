{
 "cells": [
  {
   "cell_type": "code",
   "execution_count": 186,
   "metadata": {},
   "outputs": [],
   "source": [
    "import pandas as pd\n",
    "import numpy as np\n",
    "import torch\n",
    "import os\n",
    "from scipy.io import loadmat\n",
    "from imageio import imread\n",
    "import matplotlib.pyplot as plt\n",
    "import pickle\n",
    "import data_utils\n",
    "from torch.utils.data import Dataset\n",
    "\n",
    "%matplotlib inline\n",
    "%reload_ext autoreload\n",
    "%autoreload 2"
   ]
  },
  {
   "cell_type": "code",
   "execution_count": 187,
   "metadata": {},
   "outputs": [],
   "source": [
    "i = 3\n",
    "imgs = os.listdir(data_utils.COAD_IMG_DIR)\n",
    "current_img = image_directory+imgs[i]"
   ]
  },
  {
   "cell_type": "code",
   "execution_count": 188,
   "metadata": {},
   "outputs": [
    {
     "name": "stdout",
     "output_type": "stream",
     "text": [
      "img92 img75 img62 img50 img21 img68 img41 img23 img36 img91 img47 img71 img55 img52 img64 img9 img3 img97 img96 img22 img84 img95 img40 img48 img5 img56 img93 img38 img90 img26 img73 img35 img83 img2 img33 img1 img29 img37 img15 img34 img19 img20 img57 img87 img6 img74 img10 img79 img80 img100 img78 img94 img53 img69 img54 img51 img11 img7 img12 img4 img61 img82 img14 img70 img16 img89 img17 img24 img65 img31 img81 img28 img32 img67 img88 img25 img58 img27 img44 img99 img43 img59 img18 img8 img85 img30 img49 img72 img77 img39 img45 img66 img63 img46 img98 img42 img86 img60 img13 "
     ]
    }
   ],
   "source": [
    "all_slides = []\n",
    "all_slide_tile_classes = []\n",
    "all_slide_locs = []\n",
    "all_slide_labels = []\n",
    "\n",
    "for i,name in enumerate(imgs):\n",
    "    if name[0:3] == 'img':\n",
    "        print(name, end=\" \")\n",
    "    \n",
    "        current_img = image_directory+name\n",
    "        slide_level_label,epi_mat,fibro_mat,inf_mat,other_mat,bmp_im = data_utils.process_slide(current_img,imgs,i)\n",
    "        slide,slide_tile_class,slide_locs = data_utils.read_slide(epi_mat,fibro_mat,inf_mat,other_mat,bmp_im)\n",
    "    \n",
    "        all_slides.append(slide)\n",
    "        all_slide_tile_classes.append(slide_tile_class)\n",
    "        all_slide_locs.append(slide_locs)\n",
    "        all_slide_labels.append(slide_level_label)\n",
    "    "
   ]
  },
  {
   "cell_type": "code",
   "execution_count": 217,
   "metadata": {},
   "outputs": [],
   "source": [
    "\n",
    "pickle_file = data_utils.COAD_DATASET\n",
    "with open(pickle_file, 'wb') as f: \n",
    "        pickle.dump([all_slides, all_slide_tile_classes, all_slide_locs,all_slide_labels], f)\n",
    "\n",
    "pickle_file = data_utils.COAD_VALID\n",
    "with open(pickle_file, 'wb') as f: \n",
    "        pickle.dump([all_slides[70:90], all_slide_tile_classes[70:90], all_slide_locs[70:90],all_slide_labels[70:90]], f)\n",
    "\n",
    "pickle_file = data_utils.COAD_TRAIN\n",
    "with open(pickle_file, 'wb') as f: \n",
    "        pickle.dump([all_slides[:70], all_slide_tile_classes[:70], all_slide_locs[:70],all_slide_labels[:70]], f)\n",
    "\n",
    "pickle_file = data_utils.COAD_DEV\n",
    "with open(pickle_file, 'wb') as f: \n",
    "        pickle.dump([all_slides[:10], all_slide_tile_classes[:10], all_slide_locs[:10],all_slide_labels[:10]], f)\n",
    "\n",
    "pickle_file = data_utils.COAD_TEST\n",
    "with open(pickle_file, 'wb') as f: \n",
    "        pickle.dump([all_slides[90:], all_slide_tile_classes[90:], all_slide_locs[90:],all_slide_labels[90:]], f)\n",
    "        "
   ]
  },
  {
   "cell_type": "code",
   "execution_count": 218,
   "metadata": {},
   "outputs": [],
   "source": [
    "dev = data_utils.COAD_dataset(data_utils.COAD_DEV)"
   ]
  },
  {
   "cell_type": "code",
   "execution_count": 219,
   "metadata": {},
   "outputs": [],
   "source": [
    "dev_loader = torch.utils.data.DataLoader(dev, batch_size=1, shuffle=True , pin_memory=True)"
   ]
  },
  {
   "cell_type": "code",
   "execution_count": 220,
   "metadata": {},
   "outputs": [],
   "source": [
    "for slide,label in dev_loader:\n",
    "    slide.squeeze_()\n",
    "    break"
   ]
  },
  {
   "cell_type": "code",
   "execution_count": 221,
   "metadata": {},
   "outputs": [
    {
     "data": {
      "text/plain": [
       "torch.Size([253, 27, 27, 3])"
      ]
     },
     "execution_count": 221,
     "metadata": {},
     "output_type": "execute_result"
    }
   ],
   "source": [
    "slide.shape"
   ]
  },
  {
   "cell_type": "code",
   "execution_count": null,
   "metadata": {},
   "outputs": [],
   "source": []
  }
 ],
 "metadata": {
  "kernelspec": {
   "display_name": "Python 3",
   "language": "python",
   "name": "python3"
  },
  "language_info": {
   "codemirror_mode": {
    "name": "ipython",
    "version": 3
   },
   "file_extension": ".py",
   "mimetype": "text/x-python",
   "name": "python",
   "nbconvert_exporter": "python",
   "pygments_lexer": "ipython3",
   "version": "3.6.5"
  }
 },
 "nbformat": 4,
 "nbformat_minor": 2
}
