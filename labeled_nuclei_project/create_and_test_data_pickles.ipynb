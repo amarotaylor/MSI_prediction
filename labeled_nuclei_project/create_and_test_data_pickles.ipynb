{
 "cells": [
  {
   "cell_type": "code",
   "execution_count": null,
   "metadata": {},
   "outputs": [],
   "source": [
    "import pandas as pd\n",
    "import numpy as np\n",
    "import torch\n",
    "import os\n",
    "from scipy.io import loadmat\n",
    "from imageio import imread\n",
    "import matplotlib.pyplot as plt\n",
    "import pickle\n",
    "import data_utils\n",
    "from torch.utils.data import Dataset\n",
    "\n",
    "%matplotlib inline\n",
    "%reload_ext autoreload\n",
    "%autoreload 2"
   ]
  },
  {
   "cell_type": "code",
   "execution_count": null,
   "metadata": {},
   "outputs": [],
   "source": [
    "i = 3\n",
    "imgs = os.listdir(data_utils.COAD_IMG_DIR)\n",
    "current_img = data_utils.COAD_IMG_DIR+imgs[i]"
   ]
  },
  {
   "cell_type": "code",
   "execution_count": null,
   "metadata": {},
   "outputs": [],
   "source": [
    "all_slides = []\n",
    "all_slide_tile_classes = []\n",
    "all_slide_locs = []\n",
    "all_slide_labels = []\n",
    "#all_slide_names = []\n",
    "\n",
    "for i,name in enumerate(imgs):\n",
    "    if name[0:3] == 'img':\n",
    "        print(name, end=\" \")\n",
    "    \n",
    "        current_img = data_utils.COAD_IMG_DIR+name\n",
    "        slide_level_label,epi_mat,fibro_mat,inf_mat,other_mat,bmp_im = data_utils.process_slide(current_img,imgs,i)\n",
    "        slide,slide_tile_class,slide_locs = data_utils.read_slide(epi_mat,fibro_mat,inf_mat,other_mat,bmp_im)\n",
    "    \n",
    "        all_slides.append(slide)\n",
    "        all_slide_tile_classes.append(slide_tile_class)\n",
    "        all_slide_locs.append(slide_locs)\n",
    "        all_slide_labels.append(slide_level_label)\n",
    "        #all_slide_names.append(current_img)"
   ]
  },
  {
   "cell_type": "code",
   "execution_count": null,
   "metadata": {},
   "outputs": [],
   "source": [
    "pickle_file = data_utils.COAD_DATASET\n",
    "with open(pickle_file, 'wb') as f: \n",
    "        pickle.dump([all_slides, all_slide_tile_classes, all_slide_locs, all_slide_labels], f)\n",
    "\n",
    "pickle_file = data_utils.COAD_VALID\n",
    "with open(pickle_file, 'wb') as f: \n",
    "        pickle.dump([all_slides[50:], all_slide_tile_classes[50:], all_slide_locs[50:], all_slide_labels[50:]], f)\n",
    "\n",
    "pickle_file = data_utils.COAD_TRAIN\n",
    "with open(pickle_file, 'wb') as f: \n",
    "        pickle.dump([all_slides[:50], all_slide_tile_classes[:50], all_slide_locs[:50], all_slide_labels[:50]], f)\n",
    "\n",
    "pickle_file = data_utils.COAD_DEV\n",
    "with open(pickle_file, 'wb') as f: \n",
    "        pickle.dump([all_slides[:10], all_slide_tile_classes[:10], all_slide_locs[:10], all_slide_labels[:10]], f)\n",
    "\n",
    "# dataset too small\n",
    "#pickle_file = data_utils.COAD_TEST\n",
    "#with open(pickle_file, 'wb') as f: \n",
    "#        pickle.dump([all_slides[90:], all_slide_tile_classes[90:], all_slide_locs[90:],all_slide_labels[90:]], f)"
   ]
  },
  {
   "cell_type": "code",
   "execution_count": null,
   "metadata": {},
   "outputs": [],
   "source": [
    "dev = data_utils.COAD_dataset(data_utils.COAD_DEV)"
   ]
  },
  {
   "cell_type": "code",
   "execution_count": null,
   "metadata": {},
   "outputs": [],
   "source": [
    "dev_loader = torch.utils.data.DataLoader(dev, batch_size=1, shuffle=True, pin_memory=True)"
   ]
  },
  {
   "cell_type": "code",
   "execution_count": null,
   "metadata": {},
   "outputs": [],
   "source": [
    "for slide,label in dev_loader:\n",
    "    slide.squeeze_()\n",
    "    break"
   ]
  },
  {
   "cell_type": "code",
   "execution_count": null,
   "metadata": {},
   "outputs": [],
   "source": [
    "slide_level_label"
   ]
  },
  {
   "cell_type": "code",
   "execution_count": 1,
   "metadata": {},
   "outputs": [
    {
     "data": {
      "text/plain": [
       "'abcdefg'"
      ]
     },
     "execution_count": 1,
     "metadata": {},
     "output_type": "execute_result"
    }
   ],
   "source": [
    "temp = 'abcdefg.pt'\n",
    "temp[:-3]"
   ]
  },
  {
   "cell_type": "code",
   "execution_count": null,
   "metadata": {},
   "outputs": [],
   "source": []
  }
 ],
 "metadata": {
  "kernelspec": {
   "display_name": "Python 3",
   "language": "python",
   "name": "python3"
  },
  "language_info": {
   "codemirror_mode": {
    "name": "ipython",
    "version": 3
   },
   "file_extension": ".py",
   "mimetype": "text/x-python",
   "name": "python",
   "nbconvert_exporter": "python",
   "pygments_lexer": "ipython3",
   "version": "3.6.7"
  }
 },
 "nbformat": 4,
 "nbformat_minor": 2
}
